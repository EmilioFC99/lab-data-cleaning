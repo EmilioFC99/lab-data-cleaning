{
 "cells": [
  {
   "cell_type": "code",
   "execution_count": 1,
   "metadata": {},
   "outputs": [],
   "source": [
    "import pandas as pd\n",
    "import numpy as np\n",
    "\n",
    "import re"
   ]
  },
  {
   "cell_type": "markdown",
   "metadata": {
    "pycharm": {
     "name": "#%% md\n"
    }
   },
   "source": [
    "# Data Cleaning"
   ]
  },
  {
   "cell_type": "code",
   "execution_count": 6,
   "metadata": {
    "pycharm": {
     "name": "#%%\n"
    }
   },
   "outputs": [
    {
     "name": "stderr",
     "output_type": "stream",
     "text": [
      "C:\\Users\\Emilio\\anaconda3\\envs\\tensorflow\\lib\\site-packages\\IPython\\core\\interactiveshell.py:3063: DtypeWarning: Columns (70,71,72,73,74,76,79) have mixed types.Specify dtype option on import or set low_memory=False.\n",
      "  interactivity=interactivity, compiler=compiler, result=result)\n"
     ]
    }
   ],
   "source": [
    "data = pd.read_csv('vehicles_messy.csv')"
   ]
  },
  {
   "cell_type": "code",
   "execution_count": 7,
   "metadata": {
    "pycharm": {
     "name": "#%%\n"
    }
   },
   "outputs": [
    {
     "data": {
      "text/html": [
       "<div>\n",
       "<style scoped>\n",
       "    .dataframe tbody tr th:only-of-type {\n",
       "        vertical-align: middle;\n",
       "    }\n",
       "\n",
       "    .dataframe tbody tr th {\n",
       "        vertical-align: top;\n",
       "    }\n",
       "\n",
       "    .dataframe thead th {\n",
       "        text-align: right;\n",
       "    }\n",
       "</style>\n",
       "<table border=\"1\" class=\"dataframe\">\n",
       "  <thead>\n",
       "    <tr style=\"text-align: right;\">\n",
       "      <th></th>\n",
       "      <th>barrels08</th>\n",
       "      <th>barrelsA08</th>\n",
       "      <th>charge120</th>\n",
       "      <th>charge240</th>\n",
       "      <th>city08</th>\n",
       "      <th>city08U</th>\n",
       "      <th>cityA08</th>\n",
       "      <th>cityA08U</th>\n",
       "      <th>cityCD</th>\n",
       "      <th>cityE</th>\n",
       "      <th>...</th>\n",
       "      <th>mfrCode</th>\n",
       "      <th>c240Dscr</th>\n",
       "      <th>charge240b</th>\n",
       "      <th>c240bDscr</th>\n",
       "      <th>createdOn</th>\n",
       "      <th>modifiedOn</th>\n",
       "      <th>startStop</th>\n",
       "      <th>phevCity</th>\n",
       "      <th>phevHwy</th>\n",
       "      <th>phevComb</th>\n",
       "    </tr>\n",
       "  </thead>\n",
       "  <tbody>\n",
       "    <tr>\n",
       "      <th>0</th>\n",
       "      <td>15.695714</td>\n",
       "      <td>0.0</td>\n",
       "      <td>0.0</td>\n",
       "      <td>0.0</td>\n",
       "      <td>19</td>\n",
       "      <td>0.0</td>\n",
       "      <td>0</td>\n",
       "      <td>0.0</td>\n",
       "      <td>0.0</td>\n",
       "      <td>0.0</td>\n",
       "      <td>...</td>\n",
       "      <td>NaN</td>\n",
       "      <td>NaN</td>\n",
       "      <td>0.0</td>\n",
       "      <td>NaN</td>\n",
       "      <td>Tue Jan 01 00:00:00 EST 2013</td>\n",
       "      <td>Tue Jan 01 00:00:00 EST 2013</td>\n",
       "      <td>NaN</td>\n",
       "      <td>0</td>\n",
       "      <td>0</td>\n",
       "      <td>0</td>\n",
       "    </tr>\n",
       "    <tr>\n",
       "      <th>1</th>\n",
       "      <td>29.964545</td>\n",
       "      <td>0.0</td>\n",
       "      <td>0.0</td>\n",
       "      <td>0.0</td>\n",
       "      <td>9</td>\n",
       "      <td>0.0</td>\n",
       "      <td>0</td>\n",
       "      <td>0.0</td>\n",
       "      <td>0.0</td>\n",
       "      <td>0.0</td>\n",
       "      <td>...</td>\n",
       "      <td>NaN</td>\n",
       "      <td>NaN</td>\n",
       "      <td>0.0</td>\n",
       "      <td>NaN</td>\n",
       "      <td>Tue Jan 01 00:00:00 EST 2013</td>\n",
       "      <td>Tue Jan 01 00:00:00 EST 2013</td>\n",
       "      <td>NaN</td>\n",
       "      <td>0</td>\n",
       "      <td>0</td>\n",
       "      <td>0</td>\n",
       "    </tr>\n",
       "    <tr>\n",
       "      <th>2</th>\n",
       "      <td>12.207778</td>\n",
       "      <td>0.0</td>\n",
       "      <td>0.0</td>\n",
       "      <td>0.0</td>\n",
       "      <td>23</td>\n",
       "      <td>0.0</td>\n",
       "      <td>0</td>\n",
       "      <td>0.0</td>\n",
       "      <td>0.0</td>\n",
       "      <td>0.0</td>\n",
       "      <td>...</td>\n",
       "      <td>NaN</td>\n",
       "      <td>NaN</td>\n",
       "      <td>0.0</td>\n",
       "      <td>NaN</td>\n",
       "      <td>Tue Jan 01 00:00:00 EST 2013</td>\n",
       "      <td>Tue Jan 01 00:00:00 EST 2013</td>\n",
       "      <td>NaN</td>\n",
       "      <td>0</td>\n",
       "      <td>0</td>\n",
       "      <td>0</td>\n",
       "    </tr>\n",
       "    <tr>\n",
       "      <th>3</th>\n",
       "      <td>29.964545</td>\n",
       "      <td>0.0</td>\n",
       "      <td>0.0</td>\n",
       "      <td>0.0</td>\n",
       "      <td>10</td>\n",
       "      <td>0.0</td>\n",
       "      <td>0</td>\n",
       "      <td>0.0</td>\n",
       "      <td>0.0</td>\n",
       "      <td>0.0</td>\n",
       "      <td>...</td>\n",
       "      <td>NaN</td>\n",
       "      <td>NaN</td>\n",
       "      <td>0.0</td>\n",
       "      <td>NaN</td>\n",
       "      <td>Tue Jan 01 00:00:00 EST 2013</td>\n",
       "      <td>Tue Jan 01 00:00:00 EST 2013</td>\n",
       "      <td>NaN</td>\n",
       "      <td>0</td>\n",
       "      <td>0</td>\n",
       "      <td>0</td>\n",
       "    </tr>\n",
       "    <tr>\n",
       "      <th>4</th>\n",
       "      <td>17.347895</td>\n",
       "      <td>0.0</td>\n",
       "      <td>0.0</td>\n",
       "      <td>0.0</td>\n",
       "      <td>17</td>\n",
       "      <td>0.0</td>\n",
       "      <td>0</td>\n",
       "      <td>0.0</td>\n",
       "      <td>0.0</td>\n",
       "      <td>0.0</td>\n",
       "      <td>...</td>\n",
       "      <td>NaN</td>\n",
       "      <td>NaN</td>\n",
       "      <td>0.0</td>\n",
       "      <td>NaN</td>\n",
       "      <td>Tue Jan 01 00:00:00 EST 2013</td>\n",
       "      <td>Tue Jan 01 00:00:00 EST 2013</td>\n",
       "      <td>NaN</td>\n",
       "      <td>0</td>\n",
       "      <td>0</td>\n",
       "      <td>0</td>\n",
       "    </tr>\n",
       "  </tbody>\n",
       "</table>\n",
       "<p>5 rows × 83 columns</p>\n",
       "</div>"
      ],
      "text/plain": [
       "   barrels08  barrelsA08  charge120  charge240  city08  city08U  cityA08  \\\n",
       "0  15.695714         0.0        0.0        0.0      19      0.0        0   \n",
       "1  29.964545         0.0        0.0        0.0       9      0.0        0   \n",
       "2  12.207778         0.0        0.0        0.0      23      0.0        0   \n",
       "3  29.964545         0.0        0.0        0.0      10      0.0        0   \n",
       "4  17.347895         0.0        0.0        0.0      17      0.0        0   \n",
       "\n",
       "   cityA08U  cityCD  cityE  ...  mfrCode  c240Dscr  charge240b  c240bDscr  \\\n",
       "0       0.0     0.0    0.0  ...      NaN       NaN         0.0        NaN   \n",
       "1       0.0     0.0    0.0  ...      NaN       NaN         0.0        NaN   \n",
       "2       0.0     0.0    0.0  ...      NaN       NaN         0.0        NaN   \n",
       "3       0.0     0.0    0.0  ...      NaN       NaN         0.0        NaN   \n",
       "4       0.0     0.0    0.0  ...      NaN       NaN         0.0        NaN   \n",
       "\n",
       "                      createdOn                    modifiedOn  startStop  \\\n",
       "0  Tue Jan 01 00:00:00 EST 2013  Tue Jan 01 00:00:00 EST 2013        NaN   \n",
       "1  Tue Jan 01 00:00:00 EST 2013  Tue Jan 01 00:00:00 EST 2013        NaN   \n",
       "2  Tue Jan 01 00:00:00 EST 2013  Tue Jan 01 00:00:00 EST 2013        NaN   \n",
       "3  Tue Jan 01 00:00:00 EST 2013  Tue Jan 01 00:00:00 EST 2013        NaN   \n",
       "4  Tue Jan 01 00:00:00 EST 2013  Tue Jan 01 00:00:00 EST 2013        NaN   \n",
       "\n",
       "   phevCity  phevHwy  phevComb  \n",
       "0         0        0         0  \n",
       "1         0        0         0  \n",
       "2         0        0         0  \n",
       "3         0        0         0  \n",
       "4         0        0         0  \n",
       "\n",
       "[5 rows x 83 columns]"
      ]
     },
     "execution_count": 7,
     "metadata": {},
     "output_type": "execute_result"
    }
   ],
   "source": [
    "# primera vista de cómo está mi dataframe. De entrada tengo muchos valores en 0 o NaN...\n",
    "data.head()"
   ]
  },
  {
   "cell_type": "code",
   "execution_count": 8,
   "metadata": {
    "pycharm": {
     "name": "#%%\n"
    }
   },
   "outputs": [
    {
     "data": {
      "text/plain": [
       "barrels08         0\n",
       "barrelsA08        0\n",
       "charge120         0\n",
       "charge240         0\n",
       "city08            0\n",
       "              ...  \n",
       "modifiedOn        0\n",
       "startStop     31705\n",
       "phevCity          0\n",
       "phevHwy           0\n",
       "phevComb          0\n",
       "Length: 83, dtype: int64"
      ]
     },
     "execution_count": 8,
     "metadata": {},
     "output_type": "execute_result"
    }
   ],
   "source": [
    "# Puedo contar la cantidad de nulos que tengo en cada columna... sin embargo no me está mostrando las 83.\n",
    "data.isnull().sum()"
   ]
  },
  {
   "cell_type": "code",
   "execution_count": 9,
   "metadata": {
    "pycharm": {
     "name": "#%%\n"
    }
   },
   "outputs": [
    {
     "data": {
      "text/plain": [
       "cylinders       123\n",
       "displ           120\n",
       "drive          1189\n",
       "eng_dscr      15403\n",
       "trany            11\n",
       "guzzler       35562\n",
       "trans_dscr    22796\n",
       "tCharger      32657\n",
       "sCharger      37177\n",
       "atvType       34771\n",
       "fuelType2     36435\n",
       "rangeA        36440\n",
       "evMotor       37281\n",
       "mfrCode       30818\n",
       "c240Dscr      37806\n",
       "c240bDscr     37807\n",
       "startStop     31705\n",
       "dtype: int64"
      ]
     },
     "execution_count": 9,
     "metadata": {},
     "output_type": "execute_result"
    }
   ],
   "source": [
    "# En pandas puedo buscar por filtros, de forma a que solo me ponga en pantalla las columnas que sí tienen valores nulos\n",
    "null_cols = data.isnull().sum()\n",
    "null_cols[null_cols > 0]"
   ]
  },
  {
   "cell_type": "code",
   "execution_count": 10,
   "metadata": {
    "pycharm": {
     "name": "#%%\n"
    }
   },
   "outputs": [
    {
     "data": {
      "text/plain": [
       "(37843, 83)"
      ]
     },
     "execution_count": 10,
     "metadata": {},
     "output_type": "execute_result"
    }
   ],
   "source": [
    "# Hay algunas columnas que tienen demasiados valores nulos, prácticamente no hay qué analizar... entonces vamos a\n",
    "# eliminarlas\n",
    "data.shape"
   ]
  },
  {
   "cell_type": "code",
   "execution_count": 11,
   "metadata": {
    "pycharm": {
     "name": "#%%\n"
    }
   },
   "outputs": [
    {
     "data": {
      "text/plain": [
       "['eng_dscr',\n",
       " 'guzzler',\n",
       " 'trans_dscr',\n",
       " 'tCharger',\n",
       " 'sCharger',\n",
       " 'atvType',\n",
       " 'fuelType2',\n",
       " 'rangeA',\n",
       " 'evMotor',\n",
       " 'mfrCode',\n",
       " 'c240Dscr',\n",
       " 'c240bDscr',\n",
       " 'startStop']"
      ]
     },
     "execution_count": 11,
     "metadata": {},
     "output_type": "execute_result"
    }
   ],
   "source": [
    "# Creo una variable con los nombres de las columnas que quiero quitar de mi data\n",
    "drop_cols = list(null_cols[null_cols > 10000].index)\n",
    "drop_cols"
   ]
  },
  {
   "cell_type": "code",
   "execution_count": 12,
   "metadata": {
    "pycharm": {
     "name": "#%%\n"
    }
   },
   "outputs": [
    {
     "data": {
      "text/plain": [
       "(37843, 70)"
      ]
     },
     "execution_count": 12,
     "metadata": {},
     "output_type": "execute_result"
    }
   ],
   "source": [
    "# Uso el método .drop con el parámetro axis=1 para borrar columnas.\n",
    "data = data.drop(drop_cols, axis=1)\n",
    "data.shape"
   ]
  },
  {
   "cell_type": "code",
   "execution_count": 13,
   "metadata": {
    "pycharm": {
     "name": "#%%\n"
    }
   },
   "outputs": [
    {
     "data": {
      "text/plain": [
       "cylinders     123\n",
       "displ         120\n",
       "drive        1189\n",
       "trany          11\n",
       "dtype: int64"
      ]
     },
     "execution_count": 13,
     "metadata": {},
     "output_type": "execute_result"
    }
   ],
   "source": [
    "# Vamos a ver qué columnas quedaron. Chequen que puedo usar filtros con más de una condición usando operadores lógicos\n",
    "# Vemos que displ y cylinders tienen casi el mismo número de valores nulos, puede ser que sea por la misma razón...\n",
    "# vamos a observar mejor\n",
    "null_cols[(null_cols > 0)&(null_cols < 10000)]"
   ]
  },
  {
   "cell_type": "code",
   "execution_count": 14,
   "metadata": {
    "pycharm": {
     "name": "#%%\n"
    }
   },
   "outputs": [
    {
     "data": {
      "text/html": [
       "<div>\n",
       "<style scoped>\n",
       "    .dataframe tbody tr th:only-of-type {\n",
       "        vertical-align: middle;\n",
       "    }\n",
       "\n",
       "    .dataframe tbody tr th {\n",
       "        vertical-align: top;\n",
       "    }\n",
       "\n",
       "    .dataframe thead th {\n",
       "        text-align: right;\n",
       "    }\n",
       "</style>\n",
       "<table border=\"1\" class=\"dataframe\">\n",
       "  <thead>\n",
       "    <tr style=\"text-align: right;\">\n",
       "      <th></th>\n",
       "      <th>year</th>\n",
       "      <th>make</th>\n",
       "      <th>model</th>\n",
       "      <th>trany</th>\n",
       "      <th>drive</th>\n",
       "      <th>fuelType</th>\n",
       "      <th>cylinders</th>\n",
       "      <th>displ</th>\n",
       "    </tr>\n",
       "  </thead>\n",
       "  <tbody>\n",
       "    <tr>\n",
       "      <th>7138</th>\n",
       "      <td>2000</td>\n",
       "      <td>Nissan</td>\n",
       "      <td>Altra EV</td>\n",
       "      <td>NaN</td>\n",
       "      <td>NaN</td>\n",
       "      <td>Electricity</td>\n",
       "      <td>NaN</td>\n",
       "      <td>NaN</td>\n",
       "    </tr>\n",
       "    <tr>\n",
       "      <th>7139</th>\n",
       "      <td>2000</td>\n",
       "      <td>Toyota</td>\n",
       "      <td>RAV4 EV</td>\n",
       "      <td>NaN</td>\n",
       "      <td>2-Wheel Drive</td>\n",
       "      <td>Electricity</td>\n",
       "      <td>NaN</td>\n",
       "      <td>NaN</td>\n",
       "    </tr>\n",
       "    <tr>\n",
       "      <th>8143</th>\n",
       "      <td>2001</td>\n",
       "      <td>Toyota</td>\n",
       "      <td>RAV4 EV</td>\n",
       "      <td>NaN</td>\n",
       "      <td>2-Wheel Drive</td>\n",
       "      <td>Electricity</td>\n",
       "      <td>NaN</td>\n",
       "      <td>NaN</td>\n",
       "    </tr>\n",
       "    <tr>\n",
       "      <th>8144</th>\n",
       "      <td>2001</td>\n",
       "      <td>Ford</td>\n",
       "      <td>Th!nk</td>\n",
       "      <td>NaN</td>\n",
       "      <td>NaN</td>\n",
       "      <td>Electricity</td>\n",
       "      <td>NaN</td>\n",
       "      <td>NaN</td>\n",
       "    </tr>\n",
       "    <tr>\n",
       "      <th>8146</th>\n",
       "      <td>2001</td>\n",
       "      <td>Ford</td>\n",
       "      <td>Explorer USPS Electric</td>\n",
       "      <td>NaN</td>\n",
       "      <td>2-Wheel Drive</td>\n",
       "      <td>Electricity</td>\n",
       "      <td>NaN</td>\n",
       "      <td>NaN</td>\n",
       "    </tr>\n",
       "    <tr>\n",
       "      <th>...</th>\n",
       "      <td>...</td>\n",
       "      <td>...</td>\n",
       "      <td>...</td>\n",
       "      <td>...</td>\n",
       "      <td>...</td>\n",
       "      <td>...</td>\n",
       "      <td>...</td>\n",
       "      <td>...</td>\n",
       "    </tr>\n",
       "    <tr>\n",
       "      <th>30969</th>\n",
       "      <td>2017</td>\n",
       "      <td>Kia</td>\n",
       "      <td>Soul Electric</td>\n",
       "      <td>Automatic (A1)</td>\n",
       "      <td>Front-Wheel Drive</td>\n",
       "      <td>Electricity</td>\n",
       "      <td>NaN</td>\n",
       "      <td>NaN</td>\n",
       "    </tr>\n",
       "    <tr>\n",
       "      <th>30972</th>\n",
       "      <td>2016</td>\n",
       "      <td>Tesla</td>\n",
       "      <td>Model S (60 kW-hr battery pack)</td>\n",
       "      <td>Automatic (A1)</td>\n",
       "      <td>Rear-Wheel Drive</td>\n",
       "      <td>Electricity</td>\n",
       "      <td>NaN</td>\n",
       "      <td>NaN</td>\n",
       "    </tr>\n",
       "    <tr>\n",
       "      <th>30973</th>\n",
       "      <td>2016</td>\n",
       "      <td>Tesla</td>\n",
       "      <td>Model S AWD - 60D</td>\n",
       "      <td>Automatic (A1)</td>\n",
       "      <td>All-Wheel Drive</td>\n",
       "      <td>Electricity</td>\n",
       "      <td>NaN</td>\n",
       "      <td>NaN</td>\n",
       "    </tr>\n",
       "    <tr>\n",
       "      <th>30974</th>\n",
       "      <td>2016</td>\n",
       "      <td>Tesla</td>\n",
       "      <td>Model S AWD - P100D</td>\n",
       "      <td>Automatic (A1)</td>\n",
       "      <td>All-Wheel Drive</td>\n",
       "      <td>Electricity</td>\n",
       "      <td>NaN</td>\n",
       "      <td>NaN</td>\n",
       "    </tr>\n",
       "    <tr>\n",
       "      <th>30975</th>\n",
       "      <td>2016</td>\n",
       "      <td>Tesla</td>\n",
       "      <td>Model X AWD - 60D</td>\n",
       "      <td>Automatic (A1)</td>\n",
       "      <td>All-Wheel Drive</td>\n",
       "      <td>Electricity</td>\n",
       "      <td>NaN</td>\n",
       "      <td>NaN</td>\n",
       "    </tr>\n",
       "  </tbody>\n",
       "</table>\n",
       "<p>120 rows × 8 columns</p>\n",
       "</div>"
      ],
      "text/plain": [
       "       year    make                            model           trany  \\\n",
       "7138   2000  Nissan                         Altra EV             NaN   \n",
       "7139   2000  Toyota                          RAV4 EV             NaN   \n",
       "8143   2001  Toyota                          RAV4 EV             NaN   \n",
       "8144   2001    Ford                            Th!nk             NaN   \n",
       "8146   2001    Ford           Explorer USPS Electric             NaN   \n",
       "...     ...     ...                              ...             ...   \n",
       "30969  2017     Kia                    Soul Electric  Automatic (A1)   \n",
       "30972  2016   Tesla  Model S (60 kW-hr battery pack)  Automatic (A1)   \n",
       "30973  2016   Tesla                Model S AWD - 60D  Automatic (A1)   \n",
       "30974  2016   Tesla              Model S AWD - P100D  Automatic (A1)   \n",
       "30975  2016   Tesla                Model X AWD - 60D  Automatic (A1)   \n",
       "\n",
       "                   drive     fuelType  cylinders  displ  \n",
       "7138                 NaN  Electricity        NaN    NaN  \n",
       "7139       2-Wheel Drive  Electricity        NaN    NaN  \n",
       "8143       2-Wheel Drive  Electricity        NaN    NaN  \n",
       "8144                 NaN  Electricity        NaN    NaN  \n",
       "8146       2-Wheel Drive  Electricity        NaN    NaN  \n",
       "...                  ...          ...        ...    ...  \n",
       "30969  Front-Wheel Drive  Electricity        NaN    NaN  \n",
       "30972   Rear-Wheel Drive  Electricity        NaN    NaN  \n",
       "30973    All-Wheel Drive  Electricity        NaN    NaN  \n",
       "30974    All-Wheel Drive  Electricity        NaN    NaN  \n",
       "30975    All-Wheel Drive  Electricity        NaN    NaN  \n",
       "\n",
       "[120 rows x 8 columns]"
      ]
     },
     "execution_count": 14,
     "metadata": {},
     "output_type": "execute_result"
    }
   ],
   "source": [
    "# Hice un dataframe solamente con los casos en qué displ es nulo\n",
    "# Luego, visualicé con algunas de las columnas que sé qué són más importantes para entender cómo es un auto\n",
    "# específico... Y qué interesante, parece ser que todos los autos Eléctricos tienen displ y cylinders en nulo. Tiene\n",
    "# lógica, verdad?\n",
    "null_displ = data[data['displ'].isnull() == True]\n",
    "null_displ[['year', 'make', 'model', 'trany', 'drive','fuelType','cylinders', 'displ']]"
   ]
  },
  {
   "cell_type": "code",
   "execution_count": 15,
   "metadata": {
    "pycharm": {
     "name": "#%%\n"
    }
   },
   "outputs": [
    {
     "data": {
      "text/html": [
       "<div>\n",
       "<style scoped>\n",
       "    .dataframe tbody tr th:only-of-type {\n",
       "        vertical-align: middle;\n",
       "    }\n",
       "\n",
       "    .dataframe tbody tr th {\n",
       "        vertical-align: top;\n",
       "    }\n",
       "\n",
       "    .dataframe thead th {\n",
       "        text-align: right;\n",
       "    }\n",
       "</style>\n",
       "<table border=\"1\" class=\"dataframe\">\n",
       "  <thead>\n",
       "    <tr style=\"text-align: right;\">\n",
       "      <th></th>\n",
       "      <th>year</th>\n",
       "      <th>make</th>\n",
       "      <th>model</th>\n",
       "      <th>trany</th>\n",
       "      <th>drive</th>\n",
       "      <th>fuelType</th>\n",
       "      <th>cylinders</th>\n",
       "      <th>displ</th>\n",
       "    </tr>\n",
       "  </thead>\n",
       "  <tbody>\n",
       "    <tr>\n",
       "      <th>7138</th>\n",
       "      <td>2000</td>\n",
       "      <td>Nissan</td>\n",
       "      <td>Altra EV</td>\n",
       "      <td>NaN</td>\n",
       "      <td>NaN</td>\n",
       "      <td>Electricity</td>\n",
       "      <td>0.0</td>\n",
       "      <td>0.0</td>\n",
       "    </tr>\n",
       "    <tr>\n",
       "      <th>7139</th>\n",
       "      <td>2000</td>\n",
       "      <td>Toyota</td>\n",
       "      <td>RAV4 EV</td>\n",
       "      <td>NaN</td>\n",
       "      <td>2-Wheel Drive</td>\n",
       "      <td>Electricity</td>\n",
       "      <td>0.0</td>\n",
       "      <td>0.0</td>\n",
       "    </tr>\n",
       "    <tr>\n",
       "      <th>8143</th>\n",
       "      <td>2001</td>\n",
       "      <td>Toyota</td>\n",
       "      <td>RAV4 EV</td>\n",
       "      <td>NaN</td>\n",
       "      <td>2-Wheel Drive</td>\n",
       "      <td>Electricity</td>\n",
       "      <td>0.0</td>\n",
       "      <td>0.0</td>\n",
       "    </tr>\n",
       "    <tr>\n",
       "      <th>8144</th>\n",
       "      <td>2001</td>\n",
       "      <td>Ford</td>\n",
       "      <td>Th!nk</td>\n",
       "      <td>NaN</td>\n",
       "      <td>NaN</td>\n",
       "      <td>Electricity</td>\n",
       "      <td>0.0</td>\n",
       "      <td>0.0</td>\n",
       "    </tr>\n",
       "    <tr>\n",
       "      <th>8146</th>\n",
       "      <td>2001</td>\n",
       "      <td>Ford</td>\n",
       "      <td>Explorer USPS Electric</td>\n",
       "      <td>NaN</td>\n",
       "      <td>2-Wheel Drive</td>\n",
       "      <td>Electricity</td>\n",
       "      <td>0.0</td>\n",
       "      <td>0.0</td>\n",
       "    </tr>\n",
       "    <tr>\n",
       "      <th>...</th>\n",
       "      <td>...</td>\n",
       "      <td>...</td>\n",
       "      <td>...</td>\n",
       "      <td>...</td>\n",
       "      <td>...</td>\n",
       "      <td>...</td>\n",
       "      <td>...</td>\n",
       "      <td>...</td>\n",
       "    </tr>\n",
       "    <tr>\n",
       "      <th>30969</th>\n",
       "      <td>2017</td>\n",
       "      <td>Kia</td>\n",
       "      <td>Soul Electric</td>\n",
       "      <td>Automatic (A1)</td>\n",
       "      <td>Front-Wheel Drive</td>\n",
       "      <td>Electricity</td>\n",
       "      <td>0.0</td>\n",
       "      <td>0.0</td>\n",
       "    </tr>\n",
       "    <tr>\n",
       "      <th>30972</th>\n",
       "      <td>2016</td>\n",
       "      <td>Tesla</td>\n",
       "      <td>Model S (60 kW-hr battery pack)</td>\n",
       "      <td>Automatic (A1)</td>\n",
       "      <td>Rear-Wheel Drive</td>\n",
       "      <td>Electricity</td>\n",
       "      <td>0.0</td>\n",
       "      <td>0.0</td>\n",
       "    </tr>\n",
       "    <tr>\n",
       "      <th>30973</th>\n",
       "      <td>2016</td>\n",
       "      <td>Tesla</td>\n",
       "      <td>Model S AWD - 60D</td>\n",
       "      <td>Automatic (A1)</td>\n",
       "      <td>All-Wheel Drive</td>\n",
       "      <td>Electricity</td>\n",
       "      <td>0.0</td>\n",
       "      <td>0.0</td>\n",
       "    </tr>\n",
       "    <tr>\n",
       "      <th>30974</th>\n",
       "      <td>2016</td>\n",
       "      <td>Tesla</td>\n",
       "      <td>Model S AWD - P100D</td>\n",
       "      <td>Automatic (A1)</td>\n",
       "      <td>All-Wheel Drive</td>\n",
       "      <td>Electricity</td>\n",
       "      <td>0.0</td>\n",
       "      <td>0.0</td>\n",
       "    </tr>\n",
       "    <tr>\n",
       "      <th>30975</th>\n",
       "      <td>2016</td>\n",
       "      <td>Tesla</td>\n",
       "      <td>Model X AWD - 60D</td>\n",
       "      <td>Automatic (A1)</td>\n",
       "      <td>All-Wheel Drive</td>\n",
       "      <td>Electricity</td>\n",
       "      <td>0.0</td>\n",
       "      <td>0.0</td>\n",
       "    </tr>\n",
       "  </tbody>\n",
       "</table>\n",
       "<p>120 rows × 8 columns</p>\n",
       "</div>"
      ],
      "text/plain": [
       "       year    make                            model           trany  \\\n",
       "7138   2000  Nissan                         Altra EV             NaN   \n",
       "7139   2000  Toyota                          RAV4 EV             NaN   \n",
       "8143   2001  Toyota                          RAV4 EV             NaN   \n",
       "8144   2001    Ford                            Th!nk             NaN   \n",
       "8146   2001    Ford           Explorer USPS Electric             NaN   \n",
       "...     ...     ...                              ...             ...   \n",
       "30969  2017     Kia                    Soul Electric  Automatic (A1)   \n",
       "30972  2016   Tesla  Model S (60 kW-hr battery pack)  Automatic (A1)   \n",
       "30973  2016   Tesla                Model S AWD - 60D  Automatic (A1)   \n",
       "30974  2016   Tesla              Model S AWD - P100D  Automatic (A1)   \n",
       "30975  2016   Tesla                Model X AWD - 60D  Automatic (A1)   \n",
       "\n",
       "                   drive     fuelType  cylinders  displ  \n",
       "7138                 NaN  Electricity        0.0    0.0  \n",
       "7139       2-Wheel Drive  Electricity        0.0    0.0  \n",
       "8143       2-Wheel Drive  Electricity        0.0    0.0  \n",
       "8144                 NaN  Electricity        0.0    0.0  \n",
       "8146       2-Wheel Drive  Electricity        0.0    0.0  \n",
       "...                  ...          ...        ...    ...  \n",
       "30969  Front-Wheel Drive  Electricity        0.0    0.0  \n",
       "30972   Rear-Wheel Drive  Electricity        0.0    0.0  \n",
       "30973    All-Wheel Drive  Electricity        0.0    0.0  \n",
       "30974    All-Wheel Drive  Electricity        0.0    0.0  \n",
       "30975    All-Wheel Drive  Electricity        0.0    0.0  \n",
       "\n",
       "[120 rows x 8 columns]"
      ]
     },
     "execution_count": 15,
     "metadata": {},
     "output_type": "execute_result"
    }
   ],
   "source": [
    "# Voy a reemplazar estos nulos con 0, ya que no quiero perder la información de los autos eléctricos.\n",
    "data[['displ', 'cylinders']] = data[['displ', 'cylinders']].fillna(0)\n",
    "data[['year', 'make', 'model', 'trany', 'drive','fuelType','cylinders', 'displ']][data['fuelType'] == 'Electricity']"
   ]
  },
  {
   "cell_type": "code",
   "execution_count": 16,
   "metadata": {
    "pycharm": {
     "name": "#%%\n"
    }
   },
   "outputs": [
    {
     "data": {
      "text/plain": [
       "cylinders     123\n",
       "displ         120\n",
       "drive        1189\n",
       "trany          11\n",
       "dtype: int64"
      ]
     },
     "execution_count": 16,
     "metadata": {},
     "output_type": "execute_result"
    }
   ],
   "source": [
    "null_cols[(null_cols > 0)&(null_cols < 10000)]"
   ]
  },
  {
   "cell_type": "code",
   "execution_count": 17,
   "metadata": {
    "pycharm": {
     "name": "#%%\n"
    }
   },
   "outputs": [
    {
     "data": {
      "text/plain": [
       "Front-Wheel Drive             13286\n",
       "Rear-Wheel Drive              12931\n",
       "4-Wheel or All-Wheel Drive     6648\n",
       "All-Wheel Drive                2057\n",
       "4-Wheel Drive                  1065\n",
       "2-Wheel Drive                   507\n",
       "Part-time 4-Wheel Drive         159\n",
       "2-Wheel Drive, Front              1\n",
       "Name: drive, dtype: int64"
      ]
     },
     "execution_count": 17,
     "metadata": {},
     "output_type": "execute_result"
    }
   ],
   "source": [
    "# Vemos que drive trae los tipos de tracción de los autos... ¿Qué autos trarán null?\n",
    "data['drive'].value_counts()"
   ]
  },
  {
   "cell_type": "code",
   "execution_count": 18,
   "metadata": {
    "pycharm": {
     "name": "#%%\n"
    }
   },
   "outputs": [],
   "source": [
    "# Hice de nuevo un sub-dataframe para ver qué pasa con esa columna del drive\n",
    "null_drive = data[['year', 'make', 'model', 'trany', 'drive','fuelType','cylinders', 'displ']]\\\n",
    "    [data['drive'].isnull()==True]"
   ]
  },
  {
   "cell_type": "code",
   "execution_count": 19,
   "metadata": {
    "pycharm": {
     "name": "#%%\n"
    }
   },
   "outputs": [
    {
     "data": {
      "text/plain": [
       "1984    1180\n",
       "1999       3\n",
       "2001       2\n",
       "2008       1\n",
       "2002       1\n",
       "2000       1\n",
       "1998       1\n",
       "Name: year, dtype: int64"
      ]
     },
     "execution_count": 19,
     "metadata": {},
     "output_type": "execute_result"
    }
   ],
   "source": [
    "# Veo que casi todos los autos sobre los cuales no tengo esta información son los autos viejitos...\n",
    "# Vamos a asumir que todos esos autos tendrían solamente tracción en las ruedas delanteras\n",
    "# Tendría yo que hacer un análisis para ver si esto es cierto, pero para fines del ejercicio...\n",
    "null_drive['year'].value_counts()"
   ]
  },
  {
   "cell_type": "code",
   "execution_count": 20,
   "metadata": {
    "pycharm": {
     "name": "#%%\n"
    }
   },
   "outputs": [
    {
     "name": "stdout",
     "output_type": "stream",
     "text": [
      "0\n"
     ]
    },
    {
     "data": {
      "text/plain": [
       "Front-Wheel Drive             14475\n",
       "Rear-Wheel Drive              12931\n",
       "4-Wheel or All-Wheel Drive     6648\n",
       "All-Wheel Drive                2057\n",
       "4-Wheel Drive                  1065\n",
       "2-Wheel Drive                   507\n",
       "Part-time 4-Wheel Drive         159\n",
       "2-Wheel Drive, Front              1\n",
       "Name: drive, dtype: int64"
      ]
     },
     "execution_count": 20,
     "metadata": {},
     "output_type": "execute_result"
    }
   ],
   "source": [
    "data['drive'] = data['drive'].fillna('Front-Wheel Drive')\n",
    "print(data['drive'].isnull().sum())\n",
    "data['drive'].value_counts()"
   ]
  },
  {
   "cell_type": "code",
   "execution_count": 21,
   "metadata": {
    "pycharm": {
     "name": "#%%\n"
    }
   },
   "outputs": [
    {
     "data": {
      "text/html": [
       "<div>\n",
       "<style scoped>\n",
       "    .dataframe tbody tr th:only-of-type {\n",
       "        vertical-align: middle;\n",
       "    }\n",
       "\n",
       "    .dataframe tbody tr th {\n",
       "        vertical-align: top;\n",
       "    }\n",
       "\n",
       "    .dataframe thead th {\n",
       "        text-align: right;\n",
       "    }\n",
       "</style>\n",
       "<table border=\"1\" class=\"dataframe\">\n",
       "  <thead>\n",
       "    <tr style=\"text-align: right;\">\n",
       "      <th></th>\n",
       "      <th>year</th>\n",
       "      <th>make</th>\n",
       "      <th>model</th>\n",
       "      <th>trany</th>\n",
       "      <th>drive</th>\n",
       "      <th>fuelType</th>\n",
       "      <th>cylinders</th>\n",
       "      <th>displ</th>\n",
       "    </tr>\n",
       "  </thead>\n",
       "  <tbody>\n",
       "    <tr>\n",
       "      <th>7138</th>\n",
       "      <td>2000</td>\n",
       "      <td>Nissan</td>\n",
       "      <td>Altra EV</td>\n",
       "      <td>NaN</td>\n",
       "      <td>Front-Wheel Drive</td>\n",
       "      <td>Electricity</td>\n",
       "      <td>0.0</td>\n",
       "      <td>0.0</td>\n",
       "    </tr>\n",
       "    <tr>\n",
       "      <th>7139</th>\n",
       "      <td>2000</td>\n",
       "      <td>Toyota</td>\n",
       "      <td>RAV4 EV</td>\n",
       "      <td>NaN</td>\n",
       "      <td>2-Wheel Drive</td>\n",
       "      <td>Electricity</td>\n",
       "      <td>0.0</td>\n",
       "      <td>0.0</td>\n",
       "    </tr>\n",
       "    <tr>\n",
       "      <th>8143</th>\n",
       "      <td>2001</td>\n",
       "      <td>Toyota</td>\n",
       "      <td>RAV4 EV</td>\n",
       "      <td>NaN</td>\n",
       "      <td>2-Wheel Drive</td>\n",
       "      <td>Electricity</td>\n",
       "      <td>0.0</td>\n",
       "      <td>0.0</td>\n",
       "    </tr>\n",
       "    <tr>\n",
       "      <th>8144</th>\n",
       "      <td>2001</td>\n",
       "      <td>Ford</td>\n",
       "      <td>Th!nk</td>\n",
       "      <td>NaN</td>\n",
       "      <td>Front-Wheel Drive</td>\n",
       "      <td>Electricity</td>\n",
       "      <td>0.0</td>\n",
       "      <td>0.0</td>\n",
       "    </tr>\n",
       "    <tr>\n",
       "      <th>8146</th>\n",
       "      <td>2001</td>\n",
       "      <td>Ford</td>\n",
       "      <td>Explorer USPS Electric</td>\n",
       "      <td>NaN</td>\n",
       "      <td>2-Wheel Drive</td>\n",
       "      <td>Electricity</td>\n",
       "      <td>0.0</td>\n",
       "      <td>0.0</td>\n",
       "    </tr>\n",
       "    <tr>\n",
       "      <th>8147</th>\n",
       "      <td>2001</td>\n",
       "      <td>Nissan</td>\n",
       "      <td>Hyper-Mini</td>\n",
       "      <td>NaN</td>\n",
       "      <td>Front-Wheel Drive</td>\n",
       "      <td>Electricity</td>\n",
       "      <td>0.0</td>\n",
       "      <td>0.0</td>\n",
       "    </tr>\n",
       "    <tr>\n",
       "      <th>9212</th>\n",
       "      <td>2002</td>\n",
       "      <td>Toyota</td>\n",
       "      <td>RAV4 EV</td>\n",
       "      <td>NaN</td>\n",
       "      <td>2-Wheel Drive</td>\n",
       "      <td>Electricity</td>\n",
       "      <td>0.0</td>\n",
       "      <td>0.0</td>\n",
       "    </tr>\n",
       "    <tr>\n",
       "      <th>9213</th>\n",
       "      <td>2002</td>\n",
       "      <td>Ford</td>\n",
       "      <td>Explorer USPS Electric</td>\n",
       "      <td>NaN</td>\n",
       "      <td>2-Wheel Drive</td>\n",
       "      <td>Electricity</td>\n",
       "      <td>0.0</td>\n",
       "      <td>0.0</td>\n",
       "    </tr>\n",
       "    <tr>\n",
       "      <th>10329</th>\n",
       "      <td>2003</td>\n",
       "      <td>Toyota</td>\n",
       "      <td>RAV4 EV</td>\n",
       "      <td>NaN</td>\n",
       "      <td>2-Wheel Drive</td>\n",
       "      <td>Electricity</td>\n",
       "      <td>0.0</td>\n",
       "      <td>0.0</td>\n",
       "    </tr>\n",
       "    <tr>\n",
       "      <th>19097</th>\n",
       "      <td>1984</td>\n",
       "      <td>Ford</td>\n",
       "      <td>F150 Pickup 2WD</td>\n",
       "      <td>NaN</td>\n",
       "      <td>2-Wheel Drive</td>\n",
       "      <td>Regular</td>\n",
       "      <td>8.0</td>\n",
       "      <td>5.8</td>\n",
       "    </tr>\n",
       "    <tr>\n",
       "      <th>19128</th>\n",
       "      <td>1984</td>\n",
       "      <td>GMC</td>\n",
       "      <td>C25 Pickup 2WD</td>\n",
       "      <td>NaN</td>\n",
       "      <td>2-Wheel Drive</td>\n",
       "      <td>Regular</td>\n",
       "      <td>6.0</td>\n",
       "      <td>4.1</td>\n",
       "    </tr>\n",
       "  </tbody>\n",
       "</table>\n",
       "</div>"
      ],
      "text/plain": [
       "       year    make                   model trany              drive  \\\n",
       "7138   2000  Nissan                Altra EV   NaN  Front-Wheel Drive   \n",
       "7139   2000  Toyota                 RAV4 EV   NaN      2-Wheel Drive   \n",
       "8143   2001  Toyota                 RAV4 EV   NaN      2-Wheel Drive   \n",
       "8144   2001    Ford                   Th!nk   NaN  Front-Wheel Drive   \n",
       "8146   2001    Ford  Explorer USPS Electric   NaN      2-Wheel Drive   \n",
       "8147   2001  Nissan              Hyper-Mini   NaN  Front-Wheel Drive   \n",
       "9212   2002  Toyota                 RAV4 EV   NaN      2-Wheel Drive   \n",
       "9213   2002    Ford  Explorer USPS Electric   NaN      2-Wheel Drive   \n",
       "10329  2003  Toyota                 RAV4 EV   NaN      2-Wheel Drive   \n",
       "19097  1984    Ford         F150 Pickup 2WD   NaN      2-Wheel Drive   \n",
       "19128  1984     GMC          C25 Pickup 2WD   NaN      2-Wheel Drive   \n",
       "\n",
       "          fuelType  cylinders  displ  \n",
       "7138   Electricity        0.0    0.0  \n",
       "7139   Electricity        0.0    0.0  \n",
       "8143   Electricity        0.0    0.0  \n",
       "8144   Electricity        0.0    0.0  \n",
       "8146   Electricity        0.0    0.0  \n",
       "8147   Electricity        0.0    0.0  \n",
       "9212   Electricity        0.0    0.0  \n",
       "9213   Electricity        0.0    0.0  \n",
       "10329  Electricity        0.0    0.0  \n",
       "19097      Regular        8.0    5.8  \n",
       "19128      Regular        6.0    4.1  "
      ]
     },
     "execution_count": 21,
     "metadata": {},
     "output_type": "execute_result"
    }
   ],
   "source": [
    "# Ahora vamos por la última que nos falta, que es de la transmisión... Solo tengo 11 nulos\n",
    "null_trany = data[['year', 'make', 'model', 'trany', 'drive','fuelType','cylinders', 'displ']]\\\n",
    "    [data['trany'].isnull()==True]\n",
    "null_trany"
   ]
  },
  {
   "cell_type": "code",
   "execution_count": 22,
   "metadata": {
    "pycharm": {
     "name": "#%%\n"
    }
   },
   "outputs": [
    {
     "data": {
      "text/plain": [
       "Automatic 4-spd                     11042\n",
       "Manual 5-spd                         8311\n",
       "Automatic 3-spd                      3151\n",
       "Automatic (S6)                       2638\n",
       "Manual 6-spd                         2429\n",
       "Automatic 5-spd                      2184\n",
       "Manual 4-spd                         1483\n",
       "Automatic 6-spd                      1432\n",
       "Automatic (S8)                        960\n",
       "Automatic (S5)                        824\n",
       "Automatic (variable gear ratios)      681\n",
       "Automatic 7-spd                       663\n",
       "Automatic (S7)                        261\n",
       "Auto(AM-S7)                           256\n",
       "Automatic 8-spd                       243\n",
       "Automatic (S4)                        233\n",
       "Auto(AM7)                             160\n",
       "Auto(AV-S6)                           145\n",
       "Auto(AM6)                             110\n",
       "Automatic (A1)                        109\n",
       "Auto(AM-S6)                            92\n",
       "Automatic 9-spd                        90\n",
       "Manual 3-spd                           77\n",
       "Manual 7-spd                           68\n",
       "Auto(AV-S7)                            63\n",
       "Auto(AV-S8)                            26\n",
       "Automatic (S9)                         26\n",
       "Manual 4-spd Doubled                   17\n",
       "Auto(AM5)                              12\n",
       "Automatic (AV-S6)                       9\n",
       "Auto(AM-S8)                             6\n",
       "Auto(AM8)                               5\n",
       "Automatic (A6)                          4\n",
       "Automatic (AV)                          4\n",
       "Manual(M7)                              3\n",
       "Auto(L3)                                2\n",
       "Automatic (AM5)                         2\n",
       "Auto(L4)                                2\n",
       "Auto (AV)                               2\n",
       "Automatic 6spd                          1\n",
       "Automatic (AM6)                         1\n",
       "Auto (AV-S6)                            1\n",
       "Auto(AM-S9)                             1\n",
       "Auto(A1)                                1\n",
       "Auto (AV-S8)                            1\n",
       "Manual 5 spd                            1\n",
       "Name: trany, dtype: int64"
      ]
     },
     "execution_count": 22,
     "metadata": {},
     "output_type": "execute_result"
    }
   ],
   "source": [
    "# Casi todos los que no tienen transmisión son autos eléctricos... podemos asumir que tienen transmisión automática?\n",
    "data['trany'].value_counts()"
   ]
  },
  {
   "cell_type": "code",
   "execution_count": 23,
   "metadata": {
    "pycharm": {
     "name": "#%%\n"
    }
   },
   "outputs": [
    {
     "data": {
      "text/plain": [
       "Automatic 4-spd                     11042\n",
       "Manual 5-spd                         8311\n",
       "Automatic 3-spd                      3151\n",
       "Automatic (S6)                       2638\n",
       "Manual 6-spd                         2429\n",
       "Automatic 5-spd                      2184\n",
       "Manual 4-spd                         1483\n",
       "Automatic 6-spd                      1432\n",
       "Automatic (S8)                        960\n",
       "Automatic (S5)                        824\n",
       "Automatic (variable gear ratios)      681\n",
       "Automatic 7-spd                       663\n",
       "Automatic (S7)                        261\n",
       "Auto(AM-S7)                           256\n",
       "Automatic 8-spd                       243\n",
       "Automatic (S4)                        233\n",
       "Auto(AM7)                             160\n",
       "Auto(AV-S6)                           145\n",
       "Auto(AM6)                             110\n",
       "Automatic (A1)                        109\n",
       "Auto(AM-S6)                            92\n",
       "Automatic 9-spd                        90\n",
       "Manual 3-spd                           77\n",
       "Manual 7-spd                           68\n",
       "Auto(AV-S7)                            63\n",
       "Auto(AV-S8)                            26\n",
       "Automatic (S9)                         26\n",
       "Manual 4-spd Doubled                   17\n",
       "Auto(AM5)                              12\n",
       "Automatic                              11\n",
       "Automatic (AV-S6)                       9\n",
       "Auto(AM-S8)                             6\n",
       "Auto(AM8)                               5\n",
       "Automatic (A6)                          4\n",
       "Automatic (AV)                          4\n",
       "Manual(M7)                              3\n",
       "Auto(L3)                                2\n",
       "Automatic (AM5)                         2\n",
       "Auto(L4)                                2\n",
       "Auto (AV)                               2\n",
       "Automatic 6spd                          1\n",
       "Automatic (AM6)                         1\n",
       "Auto(A1)                                1\n",
       "Auto(AM-S9)                             1\n",
       "Auto (AV-S6)                            1\n",
       "Auto (AV-S8)                            1\n",
       "Manual 5 spd                            1\n",
       "Name: trany, dtype: int64"
      ]
     },
     "execution_count": 23,
     "metadata": {},
     "output_type": "execute_result"
    }
   ],
   "source": [
    "# Hay muchos tipos de transmisión automática, con muchas velocidades... pero no nos preocupemos por esto ahora,\n",
    "# todavía vamos a moverle más a esta columna de transmisión. Por ahora vamos a reemplazar por \"Automatic\"\n",
    "\n",
    "data['trany'] = data['trany'].fillna('Automatic')\n",
    "data['trany'].value_counts()"
   ]
  },
  {
   "cell_type": "code",
   "execution_count": 24,
   "metadata": {
    "pycharm": {
     "name": "#%%\n"
    }
   },
   "outputs": [
    {
     "data": {
      "text/html": [
       "<div>\n",
       "<style scoped>\n",
       "    .dataframe tbody tr th:only-of-type {\n",
       "        vertical-align: middle;\n",
       "    }\n",
       "\n",
       "    .dataframe tbody tr th {\n",
       "        vertical-align: top;\n",
       "    }\n",
       "\n",
       "    .dataframe thead th {\n",
       "        text-align: right;\n",
       "    }\n",
       "</style>\n",
       "<table border=\"1\" class=\"dataframe\">\n",
       "  <thead>\n",
       "    <tr style=\"text-align: right;\">\n",
       "      <th></th>\n",
       "      <th>year</th>\n",
       "      <th>make</th>\n",
       "      <th>model</th>\n",
       "      <th>trany</th>\n",
       "      <th>drive</th>\n",
       "      <th>fuelType</th>\n",
       "      <th>cylinders</th>\n",
       "      <th>displ</th>\n",
       "    </tr>\n",
       "  </thead>\n",
       "  <tbody>\n",
       "    <tr>\n",
       "      <th>21506</th>\n",
       "      <td>1986</td>\n",
       "      <td>Mazda</td>\n",
       "      <td>RX-7</td>\n",
       "      <td>Manual 5-spd</td>\n",
       "      <td>Rear-Wheel Drive</td>\n",
       "      <td>Regular</td>\n",
       "      <td>0.0</td>\n",
       "      <td>1.3</td>\n",
       "    </tr>\n",
       "  </tbody>\n",
       "</table>\n",
       "</div>"
      ],
      "text/plain": [
       "       year   make model         trany             drive fuelType  cylinders  \\\n",
       "21506  1986  Mazda  RX-7  Manual 5-spd  Rear-Wheel Drive  Regular        0.0   \n",
       "\n",
       "       displ  \n",
       "21506    1.3  "
      ]
     },
     "execution_count": 24,
     "metadata": {},
     "output_type": "execute_result"
    }
   ],
   "source": [
    "# También tenemos que lidiar con valores incorrectos en la data, es parte de cumplir con su consistencia...\n",
    "\n",
    "test = data[(data['cylinders']==0) & (data['displ']!=0)]\n",
    "test[['year', 'make', 'model', 'trany', 'drive','fuelType','cylinders', 'displ']]"
   ]
  },
  {
   "cell_type": "code",
   "execution_count": 25,
   "metadata": {
    "pycharm": {
     "name": "#%%\n"
    }
   },
   "outputs": [
    {
     "data": {
      "text/plain": [
       "year                     1986\n",
       "make                    Mazda\n",
       "model                    RX-7\n",
       "trany            Manual 5-spd\n",
       "drive        Rear-Wheel Drive\n",
       "fuelType              Regular\n",
       "cylinders                   4\n",
       "displ                     1.3\n",
       "Name: 21506, dtype: object"
      ]
     },
     "execution_count": 25,
     "metadata": {},
     "output_type": "execute_result"
    }
   ],
   "source": [
    "# Tengo 1 auto que usa gasolina y según no tiene cilindros, pero sí tiene displacement...\n",
    "# Lo que haría sería investigar para saber cuántos cilindros tiene este modelo específico. Supongamos que ya lo hice\n",
    "# y tiene 4 cilindros. Voy a usar el método .loc para reemplazar:\n",
    "\n",
    "data.loc[(data['cylinders']==0) & (data['displ']!=0), 'cylinders'] = 4\n",
    "data.loc[21506,['year', 'make', 'model', 'trany', 'drive','fuelType','cylinders', 'displ']]"
   ]
  },
  {
   "cell_type": "code",
   "execution_count": 26,
   "metadata": {
    "pycharm": {
     "name": "#%%\n"
    }
   },
   "outputs": [],
   "source": [
    "# Siguiente, quiero ver si tengo columnas que no me dan información de valor sobre lo que quiero hacer... Un ejemplo\n",
    "# de esto serían datos que tienen baja varianza... Es decir, casi todas las filas van a tener el mismo valor para esa\n",
    "# columna. Vamos a encontrarlos\n",
    "\n",
    "low_variance = []\n",
    "\n",
    "for col in data._get_numeric_data():\n",
    "    minimum = min(data[col])\n",
    "    ninety_perc = np.percentile(data[col], 90)\n",
    "    if ninety_perc == minimum:\n",
    "        low_variance.append(col)"
   ]
  },
  {
   "cell_type": "code",
   "execution_count": 27,
   "metadata": {
    "pycharm": {
     "name": "#%%\n"
    }
   },
   "outputs": [
    {
     "data": {
      "text/plain": [
       "['barrelsA08',\n",
       " 'charge120',\n",
       " 'charge240',\n",
       " 'cityA08',\n",
       " 'cityA08U',\n",
       " 'cityCD',\n",
       " 'cityE',\n",
       " 'cityUF',\n",
       " 'co2A',\n",
       " 'co2TailpipeAGpm',\n",
       " 'combA08',\n",
       " 'combA08U',\n",
       " 'combE',\n",
       " 'combinedCD',\n",
       " 'combinedUF',\n",
       " 'fuelCostA08',\n",
       " 'ghgScoreA',\n",
       " 'highwayA08',\n",
       " 'highwayA08U',\n",
       " 'highwayCD',\n",
       " 'highwayE',\n",
       " 'highwayUF',\n",
       " 'phevBlended',\n",
       " 'range',\n",
       " 'rangeCity',\n",
       " 'rangeCityA',\n",
       " 'rangeHwy',\n",
       " 'rangeHwyA',\n",
       " 'UCityA',\n",
       " 'UHighwayA',\n",
       " 'charge240b',\n",
       " 'phevCity',\n",
       " 'phevHwy',\n",
       " 'phevComb']"
      ]
     },
     "execution_count": 27,
     "metadata": {},
     "output_type": "execute_result"
    }
   ],
   "source": [
    "# Tenemos todas estas columnas que realmente no me están agregando información... A no ser que fueran datos muy\n",
    "# importantes justo porque solo algunos autos tendrán info diferente y es parte de lo que quiero modelar, lo podría\n",
    "# eliminar.\n",
    "low_variance"
   ]
  },
  {
   "cell_type": "code",
   "execution_count": 28,
   "metadata": {
    "pycharm": {
     "name": "#%%\n"
    }
   },
   "outputs": [],
   "source": [
    "# SIempre acordarse de que si eliminamos columnas el axis=1, si eliminamos filas, axis=0\n",
    "data = data.drop(low_variance, axis=1)\n"
   ]
  },
  {
   "cell_type": "code",
   "execution_count": 29,
   "metadata": {
    "pycharm": {
     "name": "#%%\n"
    }
   },
   "outputs": [
    {
     "data": {
      "text/html": [
       "<div>\n",
       "<style scoped>\n",
       "    .dataframe tbody tr th:only-of-type {\n",
       "        vertical-align: middle;\n",
       "    }\n",
       "\n",
       "    .dataframe tbody tr th {\n",
       "        vertical-align: top;\n",
       "    }\n",
       "\n",
       "    .dataframe thead th {\n",
       "        text-align: right;\n",
       "    }\n",
       "</style>\n",
       "<table border=\"1\" class=\"dataframe\">\n",
       "  <thead>\n",
       "    <tr style=\"text-align: right;\">\n",
       "      <th></th>\n",
       "      <th>count</th>\n",
       "      <th>mean</th>\n",
       "      <th>std</th>\n",
       "      <th>min</th>\n",
       "      <th>25%</th>\n",
       "      <th>50%</th>\n",
       "      <th>75%</th>\n",
       "      <th>max</th>\n",
       "    </tr>\n",
       "  </thead>\n",
       "  <tbody>\n",
       "    <tr>\n",
       "      <th>barrels08</th>\n",
       "      <td>37843.0</td>\n",
       "      <td>17.532506</td>\n",
       "      <td>4.575950</td>\n",
       "      <td>0.06</td>\n",
       "      <td>14.33087</td>\n",
       "      <td>17.347895</td>\n",
       "      <td>20.600625</td>\n",
       "      <td>47.087143</td>\n",
       "    </tr>\n",
       "    <tr>\n",
       "      <th>city08</th>\n",
       "      <td>37843.0</td>\n",
       "      <td>17.941389</td>\n",
       "      <td>6.660360</td>\n",
       "      <td>6.00</td>\n",
       "      <td>15.00000</td>\n",
       "      <td>17.000000</td>\n",
       "      <td>20.000000</td>\n",
       "      <td>138.000000</td>\n",
       "    </tr>\n",
       "    <tr>\n",
       "      <th>city08U</th>\n",
       "      <td>37843.0</td>\n",
       "      <td>4.042737</td>\n",
       "      <td>9.645820</td>\n",
       "      <td>0.00</td>\n",
       "      <td>0.00000</td>\n",
       "      <td>0.000000</td>\n",
       "      <td>0.000000</td>\n",
       "      <td>138.304000</td>\n",
       "    </tr>\n",
       "    <tr>\n",
       "      <th>co2</th>\n",
       "      <td>37843.0</td>\n",
       "      <td>61.503713</td>\n",
       "      <td>153.387715</td>\n",
       "      <td>-1.00</td>\n",
       "      <td>-1.00000</td>\n",
       "      <td>-1.000000</td>\n",
       "      <td>-1.000000</td>\n",
       "      <td>847.000000</td>\n",
       "    </tr>\n",
       "    <tr>\n",
       "      <th>co2TailpipeGpm</th>\n",
       "      <td>37843.0</td>\n",
       "      <td>473.179736</td>\n",
       "      <td>122.188847</td>\n",
       "      <td>0.00</td>\n",
       "      <td>388.00000</td>\n",
       "      <td>467.736842</td>\n",
       "      <td>555.437500</td>\n",
       "      <td>1269.571429</td>\n",
       "    </tr>\n",
       "    <tr>\n",
       "      <th>comb08</th>\n",
       "      <td>37843.0</td>\n",
       "      <td>20.195809</td>\n",
       "      <td>6.623444</td>\n",
       "      <td>7.00</td>\n",
       "      <td>17.00000</td>\n",
       "      <td>19.000000</td>\n",
       "      <td>23.000000</td>\n",
       "      <td>124.000000</td>\n",
       "    </tr>\n",
       "    <tr>\n",
       "      <th>comb08U</th>\n",
       "      <td>37843.0</td>\n",
       "      <td>4.549751</td>\n",
       "      <td>10.389994</td>\n",
       "      <td>0.00</td>\n",
       "      <td>0.00000</td>\n",
       "      <td>0.000000</td>\n",
       "      <td>0.000000</td>\n",
       "      <td>124.360100</td>\n",
       "    </tr>\n",
       "    <tr>\n",
       "      <th>cylinders</th>\n",
       "      <td>37843.0</td>\n",
       "      <td>5.719446</td>\n",
       "      <td>1.778959</td>\n",
       "      <td>0.00</td>\n",
       "      <td>4.00000</td>\n",
       "      <td>6.000000</td>\n",
       "      <td>6.000000</td>\n",
       "      <td>16.000000</td>\n",
       "    </tr>\n",
       "    <tr>\n",
       "      <th>displ</th>\n",
       "      <td>37843.0</td>\n",
       "      <td>3.307658</td>\n",
       "      <td>1.371982</td>\n",
       "      <td>0.00</td>\n",
       "      <td>2.20000</td>\n",
       "      <td>3.000000</td>\n",
       "      <td>4.300000</td>\n",
       "      <td>8.400000</td>\n",
       "    </tr>\n",
       "    <tr>\n",
       "      <th>engId</th>\n",
       "      <td>37843.0</td>\n",
       "      <td>8860.308961</td>\n",
       "      <td>17829.683477</td>\n",
       "      <td>0.00</td>\n",
       "      <td>0.00000</td>\n",
       "      <td>211.000000</td>\n",
       "      <td>4505.000000</td>\n",
       "      <td>69102.000000</td>\n",
       "    </tr>\n",
       "    <tr>\n",
       "      <th>feScore</th>\n",
       "      <td>37843.0</td>\n",
       "      <td>-0.035145</td>\n",
       "      <td>2.379584</td>\n",
       "      <td>-1.00</td>\n",
       "      <td>-1.00000</td>\n",
       "      <td>-1.000000</td>\n",
       "      <td>-1.000000</td>\n",
       "      <td>10.000000</td>\n",
       "    </tr>\n",
       "    <tr>\n",
       "      <th>fuelCost08</th>\n",
       "      <td>37843.0</td>\n",
       "      <td>1882.060090</td>\n",
       "      <td>510.280408</td>\n",
       "      <td>550.00</td>\n",
       "      <td>1500.00000</td>\n",
       "      <td>1850.000000</td>\n",
       "      <td>2200.000000</td>\n",
       "      <td>5800.000000</td>\n",
       "    </tr>\n",
       "    <tr>\n",
       "      <th>ghgScore</th>\n",
       "      <td>37843.0</td>\n",
       "      <td>-0.037206</td>\n",
       "      <td>2.374338</td>\n",
       "      <td>-1.00</td>\n",
       "      <td>-1.00000</td>\n",
       "      <td>-1.000000</td>\n",
       "      <td>-1.000000</td>\n",
       "      <td>10.000000</td>\n",
       "    </tr>\n",
       "    <tr>\n",
       "      <th>highway08</th>\n",
       "      <td>37843.0</td>\n",
       "      <td>24.104881</td>\n",
       "      <td>6.963192</td>\n",
       "      <td>9.00</td>\n",
       "      <td>20.00000</td>\n",
       "      <td>24.000000</td>\n",
       "      <td>27.000000</td>\n",
       "      <td>111.000000</td>\n",
       "    </tr>\n",
       "    <tr>\n",
       "      <th>highway08U</th>\n",
       "      <td>37843.0</td>\n",
       "      <td>5.438467</td>\n",
       "      <td>11.936327</td>\n",
       "      <td>0.00</td>\n",
       "      <td>0.00000</td>\n",
       "      <td>0.000000</td>\n",
       "      <td>0.000000</td>\n",
       "      <td>111.370000</td>\n",
       "    </tr>\n",
       "    <tr>\n",
       "      <th>hlv</th>\n",
       "      <td>37843.0</td>\n",
       "      <td>2.026214</td>\n",
       "      <td>5.947989</td>\n",
       "      <td>0.00</td>\n",
       "      <td>0.00000</td>\n",
       "      <td>0.000000</td>\n",
       "      <td>0.000000</td>\n",
       "      <td>49.000000</td>\n",
       "    </tr>\n",
       "    <tr>\n",
       "      <th>hpv</th>\n",
       "      <td>37843.0</td>\n",
       "      <td>10.424332</td>\n",
       "      <td>28.148770</td>\n",
       "      <td>0.00</td>\n",
       "      <td>0.00000</td>\n",
       "      <td>0.000000</td>\n",
       "      <td>0.000000</td>\n",
       "      <td>195.000000</td>\n",
       "    </tr>\n",
       "    <tr>\n",
       "      <th>id</th>\n",
       "      <td>37843.0</td>\n",
       "      <td>19019.286235</td>\n",
       "      <td>11034.784855</td>\n",
       "      <td>1.00</td>\n",
       "      <td>9461.50000</td>\n",
       "      <td>18923.000000</td>\n",
       "      <td>28570.500000</td>\n",
       "      <td>38173.000000</td>\n",
       "    </tr>\n",
       "    <tr>\n",
       "      <th>lv2</th>\n",
       "      <td>37843.0</td>\n",
       "      <td>1.849219</td>\n",
       "      <td>4.429983</td>\n",
       "      <td>0.00</td>\n",
       "      <td>0.00000</td>\n",
       "      <td>0.000000</td>\n",
       "      <td>0.000000</td>\n",
       "      <td>41.000000</td>\n",
       "    </tr>\n",
       "    <tr>\n",
       "      <th>lv4</th>\n",
       "      <td>37843.0</td>\n",
       "      <td>6.165658</td>\n",
       "      <td>9.743297</td>\n",
       "      <td>0.00</td>\n",
       "      <td>0.00000</td>\n",
       "      <td>0.000000</td>\n",
       "      <td>13.000000</td>\n",
       "      <td>55.000000</td>\n",
       "    </tr>\n",
       "    <tr>\n",
       "      <th>pv2</th>\n",
       "      <td>37843.0</td>\n",
       "      <td>13.696113</td>\n",
       "      <td>31.269930</td>\n",
       "      <td>0.00</td>\n",
       "      <td>0.00000</td>\n",
       "      <td>0.000000</td>\n",
       "      <td>0.000000</td>\n",
       "      <td>194.000000</td>\n",
       "    </tr>\n",
       "    <tr>\n",
       "      <th>pv4</th>\n",
       "      <td>37843.0</td>\n",
       "      <td>33.769125</td>\n",
       "      <td>45.914462</td>\n",
       "      <td>0.00</td>\n",
       "      <td>0.00000</td>\n",
       "      <td>0.000000</td>\n",
       "      <td>91.000000</td>\n",
       "      <td>192.000000</td>\n",
       "    </tr>\n",
       "    <tr>\n",
       "      <th>UCity</th>\n",
       "      <td>37843.0</td>\n",
       "      <td>22.587229</td>\n",
       "      <td>9.350163</td>\n",
       "      <td>0.00</td>\n",
       "      <td>18.00000</td>\n",
       "      <td>21.000000</td>\n",
       "      <td>25.139300</td>\n",
       "      <td>197.577100</td>\n",
       "    </tr>\n",
       "    <tr>\n",
       "      <th>UHighway</th>\n",
       "      <td>37843.0</td>\n",
       "      <td>33.619221</td>\n",
       "      <td>10.048326</td>\n",
       "      <td>0.00</td>\n",
       "      <td>27.10000</td>\n",
       "      <td>33.000000</td>\n",
       "      <td>38.109600</td>\n",
       "      <td>159.100000</td>\n",
       "    </tr>\n",
       "    <tr>\n",
       "      <th>year</th>\n",
       "      <td>37843.0</td>\n",
       "      <td>2000.064398</td>\n",
       "      <td>10.390588</td>\n",
       "      <td>1984.00</td>\n",
       "      <td>1990.00000</td>\n",
       "      <td>2001.000000</td>\n",
       "      <td>2009.000000</td>\n",
       "      <td>2017.000000</td>\n",
       "    </tr>\n",
       "    <tr>\n",
       "      <th>youSaveSpend</th>\n",
       "      <td>37843.0</td>\n",
       "      <td>-2658.999022</td>\n",
       "      <td>2553.098329</td>\n",
       "      <td>-22250.00</td>\n",
       "      <td>-4250.00000</td>\n",
       "      <td>-2500.000000</td>\n",
       "      <td>-750.000000</td>\n",
       "      <td>4000.000000</td>\n",
       "    </tr>\n",
       "  </tbody>\n",
       "</table>\n",
       "</div>"
      ],
      "text/plain": [
       "                  count          mean           std       min         25%  \\\n",
       "barrels08       37843.0     17.532506      4.575950      0.06    14.33087   \n",
       "city08          37843.0     17.941389      6.660360      6.00    15.00000   \n",
       "city08U         37843.0      4.042737      9.645820      0.00     0.00000   \n",
       "co2             37843.0     61.503713    153.387715     -1.00    -1.00000   \n",
       "co2TailpipeGpm  37843.0    473.179736    122.188847      0.00   388.00000   \n",
       "comb08          37843.0     20.195809      6.623444      7.00    17.00000   \n",
       "comb08U         37843.0      4.549751     10.389994      0.00     0.00000   \n",
       "cylinders       37843.0      5.719446      1.778959      0.00     4.00000   \n",
       "displ           37843.0      3.307658      1.371982      0.00     2.20000   \n",
       "engId           37843.0   8860.308961  17829.683477      0.00     0.00000   \n",
       "feScore         37843.0     -0.035145      2.379584     -1.00    -1.00000   \n",
       "fuelCost08      37843.0   1882.060090    510.280408    550.00  1500.00000   \n",
       "ghgScore        37843.0     -0.037206      2.374338     -1.00    -1.00000   \n",
       "highway08       37843.0     24.104881      6.963192      9.00    20.00000   \n",
       "highway08U      37843.0      5.438467     11.936327      0.00     0.00000   \n",
       "hlv             37843.0      2.026214      5.947989      0.00     0.00000   \n",
       "hpv             37843.0     10.424332     28.148770      0.00     0.00000   \n",
       "id              37843.0  19019.286235  11034.784855      1.00  9461.50000   \n",
       "lv2             37843.0      1.849219      4.429983      0.00     0.00000   \n",
       "lv4             37843.0      6.165658      9.743297      0.00     0.00000   \n",
       "pv2             37843.0     13.696113     31.269930      0.00     0.00000   \n",
       "pv4             37843.0     33.769125     45.914462      0.00     0.00000   \n",
       "UCity           37843.0     22.587229      9.350163      0.00    18.00000   \n",
       "UHighway        37843.0     33.619221     10.048326      0.00    27.10000   \n",
       "year            37843.0   2000.064398     10.390588   1984.00  1990.00000   \n",
       "youSaveSpend    37843.0  -2658.999022   2553.098329 -22250.00 -4250.00000   \n",
       "\n",
       "                         50%           75%           max  \n",
       "barrels08          17.347895     20.600625     47.087143  \n",
       "city08             17.000000     20.000000    138.000000  \n",
       "city08U             0.000000      0.000000    138.304000  \n",
       "co2                -1.000000     -1.000000    847.000000  \n",
       "co2TailpipeGpm    467.736842    555.437500   1269.571429  \n",
       "comb08             19.000000     23.000000    124.000000  \n",
       "comb08U             0.000000      0.000000    124.360100  \n",
       "cylinders           6.000000      6.000000     16.000000  \n",
       "displ               3.000000      4.300000      8.400000  \n",
       "engId             211.000000   4505.000000  69102.000000  \n",
       "feScore            -1.000000     -1.000000     10.000000  \n",
       "fuelCost08       1850.000000   2200.000000   5800.000000  \n",
       "ghgScore           -1.000000     -1.000000     10.000000  \n",
       "highway08          24.000000     27.000000    111.000000  \n",
       "highway08U          0.000000      0.000000    111.370000  \n",
       "hlv                 0.000000      0.000000     49.000000  \n",
       "hpv                 0.000000      0.000000    195.000000  \n",
       "id              18923.000000  28570.500000  38173.000000  \n",
       "lv2                 0.000000      0.000000     41.000000  \n",
       "lv4                 0.000000     13.000000     55.000000  \n",
       "pv2                 0.000000      0.000000    194.000000  \n",
       "pv4                 0.000000     91.000000    192.000000  \n",
       "UCity              21.000000     25.139300    197.577100  \n",
       "UHighway           33.000000     38.109600    159.100000  \n",
       "year             2001.000000   2009.000000   2017.000000  \n",
       "youSaveSpend    -2500.000000   -750.000000   4000.000000  "
      ]
     },
     "execution_count": 29,
     "metadata": {},
     "output_type": "execute_result"
    }
   ],
   "source": [
    "# Otro punto importante de analizar son los valores extremos en mis columnas, que llamamos outliers. Los outliers\n",
    "# suelen tener gran impacto en cualquier modelo que realizamos, ya que los modelos tienden a interpretar la\n",
    "# importancia de los datos de acuerdo a su magnitud\n",
    "\n",
    "# Una forma común de definir outliers es a través de identificar datos que estén arriba o abajo del rango\n",
    "# intercuartil (1.5x, pero puedes definir lo que sea más conveniente en tu data)\n",
    "# aquí puedo ver cuáles son mis cuartiles para cada columna numérica\n",
    "stats = data.describe().transpose()\n",
    "stats"
   ]
  },
  {
   "cell_type": "code",
   "execution_count": 30,
   "metadata": {
    "pycharm": {
     "name": "#%%\n"
    }
   },
   "outputs": [
    {
     "data": {
      "text/html": [
       "<div>\n",
       "<style scoped>\n",
       "    .dataframe tbody tr th:only-of-type {\n",
       "        vertical-align: middle;\n",
       "    }\n",
       "\n",
       "    .dataframe tbody tr th {\n",
       "        vertical-align: top;\n",
       "    }\n",
       "\n",
       "    .dataframe thead th {\n",
       "        text-align: right;\n",
       "    }\n",
       "</style>\n",
       "<table border=\"1\" class=\"dataframe\">\n",
       "  <thead>\n",
       "    <tr style=\"text-align: right;\">\n",
       "      <th></th>\n",
       "      <th>count</th>\n",
       "      <th>mean</th>\n",
       "      <th>std</th>\n",
       "      <th>min</th>\n",
       "      <th>25%</th>\n",
       "      <th>50%</th>\n",
       "      <th>75%</th>\n",
       "      <th>max</th>\n",
       "      <th>IQR</th>\n",
       "    </tr>\n",
       "  </thead>\n",
       "  <tbody>\n",
       "    <tr>\n",
       "      <th>barrels08</th>\n",
       "      <td>37843.0</td>\n",
       "      <td>17.532506</td>\n",
       "      <td>4.575950</td>\n",
       "      <td>0.06</td>\n",
       "      <td>14.33087</td>\n",
       "      <td>17.347895</td>\n",
       "      <td>20.600625</td>\n",
       "      <td>47.087143</td>\n",
       "      <td>6.269755</td>\n",
       "    </tr>\n",
       "    <tr>\n",
       "      <th>city08</th>\n",
       "      <td>37843.0</td>\n",
       "      <td>17.941389</td>\n",
       "      <td>6.660360</td>\n",
       "      <td>6.00</td>\n",
       "      <td>15.00000</td>\n",
       "      <td>17.000000</td>\n",
       "      <td>20.000000</td>\n",
       "      <td>138.000000</td>\n",
       "      <td>5.000000</td>\n",
       "    </tr>\n",
       "    <tr>\n",
       "      <th>city08U</th>\n",
       "      <td>37843.0</td>\n",
       "      <td>4.042737</td>\n",
       "      <td>9.645820</td>\n",
       "      <td>0.00</td>\n",
       "      <td>0.00000</td>\n",
       "      <td>0.000000</td>\n",
       "      <td>0.000000</td>\n",
       "      <td>138.304000</td>\n",
       "      <td>0.000000</td>\n",
       "    </tr>\n",
       "    <tr>\n",
       "      <th>co2</th>\n",
       "      <td>37843.0</td>\n",
       "      <td>61.503713</td>\n",
       "      <td>153.387715</td>\n",
       "      <td>-1.00</td>\n",
       "      <td>-1.00000</td>\n",
       "      <td>-1.000000</td>\n",
       "      <td>-1.000000</td>\n",
       "      <td>847.000000</td>\n",
       "      <td>0.000000</td>\n",
       "    </tr>\n",
       "    <tr>\n",
       "      <th>co2TailpipeGpm</th>\n",
       "      <td>37843.0</td>\n",
       "      <td>473.179736</td>\n",
       "      <td>122.188847</td>\n",
       "      <td>0.00</td>\n",
       "      <td>388.00000</td>\n",
       "      <td>467.736842</td>\n",
       "      <td>555.437500</td>\n",
       "      <td>1269.571429</td>\n",
       "      <td>167.437500</td>\n",
       "    </tr>\n",
       "    <tr>\n",
       "      <th>comb08</th>\n",
       "      <td>37843.0</td>\n",
       "      <td>20.195809</td>\n",
       "      <td>6.623444</td>\n",
       "      <td>7.00</td>\n",
       "      <td>17.00000</td>\n",
       "      <td>19.000000</td>\n",
       "      <td>23.000000</td>\n",
       "      <td>124.000000</td>\n",
       "      <td>6.000000</td>\n",
       "    </tr>\n",
       "    <tr>\n",
       "      <th>comb08U</th>\n",
       "      <td>37843.0</td>\n",
       "      <td>4.549751</td>\n",
       "      <td>10.389994</td>\n",
       "      <td>0.00</td>\n",
       "      <td>0.00000</td>\n",
       "      <td>0.000000</td>\n",
       "      <td>0.000000</td>\n",
       "      <td>124.360100</td>\n",
       "      <td>0.000000</td>\n",
       "    </tr>\n",
       "    <tr>\n",
       "      <th>cylinders</th>\n",
       "      <td>37843.0</td>\n",
       "      <td>5.719446</td>\n",
       "      <td>1.778959</td>\n",
       "      <td>0.00</td>\n",
       "      <td>4.00000</td>\n",
       "      <td>6.000000</td>\n",
       "      <td>6.000000</td>\n",
       "      <td>16.000000</td>\n",
       "      <td>2.000000</td>\n",
       "    </tr>\n",
       "    <tr>\n",
       "      <th>displ</th>\n",
       "      <td>37843.0</td>\n",
       "      <td>3.307658</td>\n",
       "      <td>1.371982</td>\n",
       "      <td>0.00</td>\n",
       "      <td>2.20000</td>\n",
       "      <td>3.000000</td>\n",
       "      <td>4.300000</td>\n",
       "      <td>8.400000</td>\n",
       "      <td>2.100000</td>\n",
       "    </tr>\n",
       "    <tr>\n",
       "      <th>engId</th>\n",
       "      <td>37843.0</td>\n",
       "      <td>8860.308961</td>\n",
       "      <td>17829.683477</td>\n",
       "      <td>0.00</td>\n",
       "      <td>0.00000</td>\n",
       "      <td>211.000000</td>\n",
       "      <td>4505.000000</td>\n",
       "      <td>69102.000000</td>\n",
       "      <td>4505.000000</td>\n",
       "    </tr>\n",
       "    <tr>\n",
       "      <th>feScore</th>\n",
       "      <td>37843.0</td>\n",
       "      <td>-0.035145</td>\n",
       "      <td>2.379584</td>\n",
       "      <td>-1.00</td>\n",
       "      <td>-1.00000</td>\n",
       "      <td>-1.000000</td>\n",
       "      <td>-1.000000</td>\n",
       "      <td>10.000000</td>\n",
       "      <td>0.000000</td>\n",
       "    </tr>\n",
       "    <tr>\n",
       "      <th>fuelCost08</th>\n",
       "      <td>37843.0</td>\n",
       "      <td>1882.060090</td>\n",
       "      <td>510.280408</td>\n",
       "      <td>550.00</td>\n",
       "      <td>1500.00000</td>\n",
       "      <td>1850.000000</td>\n",
       "      <td>2200.000000</td>\n",
       "      <td>5800.000000</td>\n",
       "      <td>700.000000</td>\n",
       "    </tr>\n",
       "    <tr>\n",
       "      <th>ghgScore</th>\n",
       "      <td>37843.0</td>\n",
       "      <td>-0.037206</td>\n",
       "      <td>2.374338</td>\n",
       "      <td>-1.00</td>\n",
       "      <td>-1.00000</td>\n",
       "      <td>-1.000000</td>\n",
       "      <td>-1.000000</td>\n",
       "      <td>10.000000</td>\n",
       "      <td>0.000000</td>\n",
       "    </tr>\n",
       "    <tr>\n",
       "      <th>highway08</th>\n",
       "      <td>37843.0</td>\n",
       "      <td>24.104881</td>\n",
       "      <td>6.963192</td>\n",
       "      <td>9.00</td>\n",
       "      <td>20.00000</td>\n",
       "      <td>24.000000</td>\n",
       "      <td>27.000000</td>\n",
       "      <td>111.000000</td>\n",
       "      <td>7.000000</td>\n",
       "    </tr>\n",
       "    <tr>\n",
       "      <th>highway08U</th>\n",
       "      <td>37843.0</td>\n",
       "      <td>5.438467</td>\n",
       "      <td>11.936327</td>\n",
       "      <td>0.00</td>\n",
       "      <td>0.00000</td>\n",
       "      <td>0.000000</td>\n",
       "      <td>0.000000</td>\n",
       "      <td>111.370000</td>\n",
       "      <td>0.000000</td>\n",
       "    </tr>\n",
       "    <tr>\n",
       "      <th>hlv</th>\n",
       "      <td>37843.0</td>\n",
       "      <td>2.026214</td>\n",
       "      <td>5.947989</td>\n",
       "      <td>0.00</td>\n",
       "      <td>0.00000</td>\n",
       "      <td>0.000000</td>\n",
       "      <td>0.000000</td>\n",
       "      <td>49.000000</td>\n",
       "      <td>0.000000</td>\n",
       "    </tr>\n",
       "    <tr>\n",
       "      <th>hpv</th>\n",
       "      <td>37843.0</td>\n",
       "      <td>10.424332</td>\n",
       "      <td>28.148770</td>\n",
       "      <td>0.00</td>\n",
       "      <td>0.00000</td>\n",
       "      <td>0.000000</td>\n",
       "      <td>0.000000</td>\n",
       "      <td>195.000000</td>\n",
       "      <td>0.000000</td>\n",
       "    </tr>\n",
       "    <tr>\n",
       "      <th>id</th>\n",
       "      <td>37843.0</td>\n",
       "      <td>19019.286235</td>\n",
       "      <td>11034.784855</td>\n",
       "      <td>1.00</td>\n",
       "      <td>9461.50000</td>\n",
       "      <td>18923.000000</td>\n",
       "      <td>28570.500000</td>\n",
       "      <td>38173.000000</td>\n",
       "      <td>19109.000000</td>\n",
       "    </tr>\n",
       "    <tr>\n",
       "      <th>lv2</th>\n",
       "      <td>37843.0</td>\n",
       "      <td>1.849219</td>\n",
       "      <td>4.429983</td>\n",
       "      <td>0.00</td>\n",
       "      <td>0.00000</td>\n",
       "      <td>0.000000</td>\n",
       "      <td>0.000000</td>\n",
       "      <td>41.000000</td>\n",
       "      <td>0.000000</td>\n",
       "    </tr>\n",
       "    <tr>\n",
       "      <th>lv4</th>\n",
       "      <td>37843.0</td>\n",
       "      <td>6.165658</td>\n",
       "      <td>9.743297</td>\n",
       "      <td>0.00</td>\n",
       "      <td>0.00000</td>\n",
       "      <td>0.000000</td>\n",
       "      <td>13.000000</td>\n",
       "      <td>55.000000</td>\n",
       "      <td>13.000000</td>\n",
       "    </tr>\n",
       "    <tr>\n",
       "      <th>pv2</th>\n",
       "      <td>37843.0</td>\n",
       "      <td>13.696113</td>\n",
       "      <td>31.269930</td>\n",
       "      <td>0.00</td>\n",
       "      <td>0.00000</td>\n",
       "      <td>0.000000</td>\n",
       "      <td>0.000000</td>\n",
       "      <td>194.000000</td>\n",
       "      <td>0.000000</td>\n",
       "    </tr>\n",
       "    <tr>\n",
       "      <th>pv4</th>\n",
       "      <td>37843.0</td>\n",
       "      <td>33.769125</td>\n",
       "      <td>45.914462</td>\n",
       "      <td>0.00</td>\n",
       "      <td>0.00000</td>\n",
       "      <td>0.000000</td>\n",
       "      <td>91.000000</td>\n",
       "      <td>192.000000</td>\n",
       "      <td>91.000000</td>\n",
       "    </tr>\n",
       "    <tr>\n",
       "      <th>UCity</th>\n",
       "      <td>37843.0</td>\n",
       "      <td>22.587229</td>\n",
       "      <td>9.350163</td>\n",
       "      <td>0.00</td>\n",
       "      <td>18.00000</td>\n",
       "      <td>21.000000</td>\n",
       "      <td>25.139300</td>\n",
       "      <td>197.577100</td>\n",
       "      <td>7.139300</td>\n",
       "    </tr>\n",
       "    <tr>\n",
       "      <th>UHighway</th>\n",
       "      <td>37843.0</td>\n",
       "      <td>33.619221</td>\n",
       "      <td>10.048326</td>\n",
       "      <td>0.00</td>\n",
       "      <td>27.10000</td>\n",
       "      <td>33.000000</td>\n",
       "      <td>38.109600</td>\n",
       "      <td>159.100000</td>\n",
       "      <td>11.009600</td>\n",
       "    </tr>\n",
       "    <tr>\n",
       "      <th>year</th>\n",
       "      <td>37843.0</td>\n",
       "      <td>2000.064398</td>\n",
       "      <td>10.390588</td>\n",
       "      <td>1984.00</td>\n",
       "      <td>1990.00000</td>\n",
       "      <td>2001.000000</td>\n",
       "      <td>2009.000000</td>\n",
       "      <td>2017.000000</td>\n",
       "      <td>19.000000</td>\n",
       "    </tr>\n",
       "    <tr>\n",
       "      <th>youSaveSpend</th>\n",
       "      <td>37843.0</td>\n",
       "      <td>-2658.999022</td>\n",
       "      <td>2553.098329</td>\n",
       "      <td>-22250.00</td>\n",
       "      <td>-4250.00000</td>\n",
       "      <td>-2500.000000</td>\n",
       "      <td>-750.000000</td>\n",
       "      <td>4000.000000</td>\n",
       "      <td>3500.000000</td>\n",
       "    </tr>\n",
       "  </tbody>\n",
       "</table>\n",
       "</div>"
      ],
      "text/plain": [
       "                  count          mean           std       min         25%  \\\n",
       "barrels08       37843.0     17.532506      4.575950      0.06    14.33087   \n",
       "city08          37843.0     17.941389      6.660360      6.00    15.00000   \n",
       "city08U         37843.0      4.042737      9.645820      0.00     0.00000   \n",
       "co2             37843.0     61.503713    153.387715     -1.00    -1.00000   \n",
       "co2TailpipeGpm  37843.0    473.179736    122.188847      0.00   388.00000   \n",
       "comb08          37843.0     20.195809      6.623444      7.00    17.00000   \n",
       "comb08U         37843.0      4.549751     10.389994      0.00     0.00000   \n",
       "cylinders       37843.0      5.719446      1.778959      0.00     4.00000   \n",
       "displ           37843.0      3.307658      1.371982      0.00     2.20000   \n",
       "engId           37843.0   8860.308961  17829.683477      0.00     0.00000   \n",
       "feScore         37843.0     -0.035145      2.379584     -1.00    -1.00000   \n",
       "fuelCost08      37843.0   1882.060090    510.280408    550.00  1500.00000   \n",
       "ghgScore        37843.0     -0.037206      2.374338     -1.00    -1.00000   \n",
       "highway08       37843.0     24.104881      6.963192      9.00    20.00000   \n",
       "highway08U      37843.0      5.438467     11.936327      0.00     0.00000   \n",
       "hlv             37843.0      2.026214      5.947989      0.00     0.00000   \n",
       "hpv             37843.0     10.424332     28.148770      0.00     0.00000   \n",
       "id              37843.0  19019.286235  11034.784855      1.00  9461.50000   \n",
       "lv2             37843.0      1.849219      4.429983      0.00     0.00000   \n",
       "lv4             37843.0      6.165658      9.743297      0.00     0.00000   \n",
       "pv2             37843.0     13.696113     31.269930      0.00     0.00000   \n",
       "pv4             37843.0     33.769125     45.914462      0.00     0.00000   \n",
       "UCity           37843.0     22.587229      9.350163      0.00    18.00000   \n",
       "UHighway        37843.0     33.619221     10.048326      0.00    27.10000   \n",
       "year            37843.0   2000.064398     10.390588   1984.00  1990.00000   \n",
       "youSaveSpend    37843.0  -2658.999022   2553.098329 -22250.00 -4250.00000   \n",
       "\n",
       "                         50%           75%           max           IQR  \n",
       "barrels08          17.347895     20.600625     47.087143      6.269755  \n",
       "city08             17.000000     20.000000    138.000000      5.000000  \n",
       "city08U             0.000000      0.000000    138.304000      0.000000  \n",
       "co2                -1.000000     -1.000000    847.000000      0.000000  \n",
       "co2TailpipeGpm    467.736842    555.437500   1269.571429    167.437500  \n",
       "comb08             19.000000     23.000000    124.000000      6.000000  \n",
       "comb08U             0.000000      0.000000    124.360100      0.000000  \n",
       "cylinders           6.000000      6.000000     16.000000      2.000000  \n",
       "displ               3.000000      4.300000      8.400000      2.100000  \n",
       "engId             211.000000   4505.000000  69102.000000   4505.000000  \n",
       "feScore            -1.000000     -1.000000     10.000000      0.000000  \n",
       "fuelCost08       1850.000000   2200.000000   5800.000000    700.000000  \n",
       "ghgScore           -1.000000     -1.000000     10.000000      0.000000  \n",
       "highway08          24.000000     27.000000    111.000000      7.000000  \n",
       "highway08U          0.000000      0.000000    111.370000      0.000000  \n",
       "hlv                 0.000000      0.000000     49.000000      0.000000  \n",
       "hpv                 0.000000      0.000000    195.000000      0.000000  \n",
       "id              18923.000000  28570.500000  38173.000000  19109.000000  \n",
       "lv2                 0.000000      0.000000     41.000000      0.000000  \n",
       "lv4                 0.000000     13.000000     55.000000     13.000000  \n",
       "pv2                 0.000000      0.000000    194.000000      0.000000  \n",
       "pv4                 0.000000     91.000000    192.000000     91.000000  \n",
       "UCity              21.000000     25.139300    197.577100      7.139300  \n",
       "UHighway           33.000000     38.109600    159.100000     11.009600  \n",
       "year             2001.000000   2009.000000   2017.000000     19.000000  \n",
       "youSaveSpend    -2500.000000   -750.000000   4000.000000   3500.000000  "
      ]
     },
     "execution_count": 30,
     "metadata": {},
     "output_type": "execute_result"
    }
   ],
   "source": [
    "stats['IQR'] = stats['75%'] - stats['25%']\n",
    "stats"
   ]
  },
  {
   "cell_type": "code",
   "execution_count": 31,
   "metadata": {
    "pycharm": {
     "name": "#%%\n"
    }
   },
   "outputs": [],
   "source": [
    "# Vamos ahora a hacer un subset de nuestra data con los outliers que encontremos.\n",
    "# Estoy definiendo como outlier todo lo que esté arriba o abajo de 1.5x el rango intercuartil\n",
    "\n",
    "outliers = pd.DataFrame(columns=data.columns)\n",
    "\n",
    "for col in stats.index:\n",
    "    iqr = stats.at[col,'IQR']\n",
    "    cutoff = iqr * 1.5\n",
    "    lower = stats.at[col,'25%'] - cutoff\n",
    "    upper = stats.at[col,'75%'] + cutoff\n",
    "    results = data[(data[col] < lower) |\n",
    "                   (data[col] > upper)].copy()\n",
    "    results['Outlier'] = col\n",
    "    outliers = outliers.append(results)"
   ]
  },
  {
   "cell_type": "code",
   "execution_count": 32,
   "metadata": {
    "pycharm": {
     "name": "#%%\n"
    }
   },
   "outputs": [
    {
     "data": {
      "text/plain": [
       "comb08U           7299\n",
       "city08U           7299\n",
       "highway08U        7299\n",
       "engId             6677\n",
       "lv2               6250\n",
       "pv2               6239\n",
       "co2               5854\n",
       "feScore           5815\n",
       "ghgScore          5815\n",
       "hlv               4615\n",
       "hpv               4614\n",
       "city08            1470\n",
       "UCity             1440\n",
       "lv4               1357\n",
       "highway08          996\n",
       "comb08             969\n",
       "UHighway           893\n",
       "cylinders          852\n",
       "co2TailpipeGpm     830\n",
       "youSaveSpend       604\n",
       "fuelCost08         604\n",
       "barrels08          432\n",
       "displ               43\n",
       "Name: Outlier, dtype: int64"
      ]
     },
     "execution_count": 32,
     "metadata": {},
     "output_type": "execute_result"
    }
   ],
   "source": [
    "# Ahora que tengo qué columnas y qué valores de cada columna son outliers, puedo decidir qué hacer con ellos.\n",
    "# Aquí tendría que ir columna por columna tomando una decisión...\n",
    "# Algunas decisiones posibles:\n",
    "# Borrar registros (si identifico que son pocos, puede ser por algún error de medición, por ejemplo...\n",
    "# Reemplazarlos por el máximo o el mínimo\n",
    "# Si son columnas escalares, como por ejemplo cylinders, yo podría transformarlas de modo a que tener más cilindros\n",
    "# no represente más importancia que tener menos cilindros.\n",
    "# Si son muchos, sí quiero considerarlos para mi distribución, al final ya no son tan \"outliers\" así... ya es un\n",
    "# fenómeno. Entonces puedo utilizar técnicas de normalización de datos para que todos estén en un mismo rango y así\n",
    "# pueda trabajar  con ellos en el modelo. Vamos a hacer las dos últimas como ejemplo\n",
    "outliers['Outlier'].value_counts()"
   ]
  },
  {
   "cell_type": "code",
   "execution_count": 33,
   "metadata": {
    "pycharm": {
     "name": "#%%\n"
    }
   },
   "outputs": [
    {
     "data": {
      "text/plain": [
       "4.0     14487\n",
       "6.0     13184\n",
       "8.0      8293\n",
       "5.0       766\n",
       "12.0      569\n",
       "3.0       207\n",
       "10.0      153\n",
       "0.0       122\n",
       "2.0        54\n",
       "16.0        8\n",
       "Name: cylinders, dtype: int64"
      ]
     },
     "execution_count": 33,
     "metadata": {},
     "output_type": "execute_result"
    }
   ],
   "source": [
    "# Los cilindros son valores enteros y limitados, no tendré muchos de ellos...\n",
    "# Vamos a suponer que quiero que tengan todos el mismo peso, no quiero que me considere un carro con muchos cilindros\n",
    "# como más importante que los que tienen pocos. Así que todo lo que sea más de 8 cilindros voy a clasificar como \"Más\n",
    "#  de 8\" y luego haré categorías.\n",
    "data['cylinders'].value_counts()"
   ]
  },
  {
   "cell_type": "code",
   "execution_count": 34,
   "metadata": {
    "pycharm": {
     "name": "#%%\n"
    }
   },
   "outputs": [
    {
     "data": {
      "text/plain": [
       "Regular cylinders     28698\n",
       "A lot of cylinders     9023\n",
       "No cylinders            122\n",
       "Name: cylinders_class, dtype: int64"
      ]
     },
     "execution_count": 34,
     "metadata": {},
     "output_type": "execute_result"
    }
   ],
   "source": [
    "# Clasifico los cilindros en 3 clases\n",
    "\n",
    "def clasificar_cilindros(x):\n",
    "    if x >= 8.0:\n",
    "        return \"A lot of cylinders\"\n",
    "    elif x == 0.0:\n",
    "        return \"No cylinders\"\n",
    "    else:\n",
    "        return \"Regular cylinders\"\n",
    "\n",
    "data['cylinders_class'] = data['cylinders'].apply(clasificar_cilindros)\n",
    "data['cylinders_class'].value_counts()\n"
   ]
  },
  {
   "cell_type": "code",
   "execution_count": 35,
   "metadata": {
    "pycharm": {
     "name": "#%%\n"
    }
   },
   "outputs": [
    {
     "data": {
      "text/html": [
       "<div>\n",
       "<style scoped>\n",
       "    .dataframe tbody tr th:only-of-type {\n",
       "        vertical-align: middle;\n",
       "    }\n",
       "\n",
       "    .dataframe tbody tr th {\n",
       "        vertical-align: top;\n",
       "    }\n",
       "\n",
       "    .dataframe thead th {\n",
       "        text-align: right;\n",
       "    }\n",
       "</style>\n",
       "<table border=\"1\" class=\"dataframe\">\n",
       "  <thead>\n",
       "    <tr style=\"text-align: right;\">\n",
       "      <th></th>\n",
       "      <th>A lot of cylinders</th>\n",
       "      <th>No cylinders</th>\n",
       "      <th>Regular cylinders</th>\n",
       "    </tr>\n",
       "  </thead>\n",
       "  <tbody>\n",
       "    <tr>\n",
       "      <th>0</th>\n",
       "      <td>0</td>\n",
       "      <td>0</td>\n",
       "      <td>1</td>\n",
       "    </tr>\n",
       "    <tr>\n",
       "      <th>1</th>\n",
       "      <td>1</td>\n",
       "      <td>0</td>\n",
       "      <td>0</td>\n",
       "    </tr>\n",
       "    <tr>\n",
       "      <th>2</th>\n",
       "      <td>0</td>\n",
       "      <td>0</td>\n",
       "      <td>1</td>\n",
       "    </tr>\n",
       "    <tr>\n",
       "      <th>3</th>\n",
       "      <td>1</td>\n",
       "      <td>0</td>\n",
       "      <td>0</td>\n",
       "    </tr>\n",
       "    <tr>\n",
       "      <th>4</th>\n",
       "      <td>0</td>\n",
       "      <td>0</td>\n",
       "      <td>1</td>\n",
       "    </tr>\n",
       "    <tr>\n",
       "      <th>...</th>\n",
       "      <td>...</td>\n",
       "      <td>...</td>\n",
       "      <td>...</td>\n",
       "    </tr>\n",
       "    <tr>\n",
       "      <th>37838</th>\n",
       "      <td>0</td>\n",
       "      <td>0</td>\n",
       "      <td>1</td>\n",
       "    </tr>\n",
       "    <tr>\n",
       "      <th>37839</th>\n",
       "      <td>0</td>\n",
       "      <td>0</td>\n",
       "      <td>1</td>\n",
       "    </tr>\n",
       "    <tr>\n",
       "      <th>37840</th>\n",
       "      <td>0</td>\n",
       "      <td>0</td>\n",
       "      <td>1</td>\n",
       "    </tr>\n",
       "    <tr>\n",
       "      <th>37841</th>\n",
       "      <td>0</td>\n",
       "      <td>0</td>\n",
       "      <td>1</td>\n",
       "    </tr>\n",
       "    <tr>\n",
       "      <th>37842</th>\n",
       "      <td>0</td>\n",
       "      <td>0</td>\n",
       "      <td>1</td>\n",
       "    </tr>\n",
       "  </tbody>\n",
       "</table>\n",
       "<p>37843 rows × 3 columns</p>\n",
       "</div>"
      ],
      "text/plain": [
       "       A lot of cylinders  No cylinders  Regular cylinders\n",
       "0                       0             0                  1\n",
       "1                       1             0                  0\n",
       "2                       0             0                  1\n",
       "3                       1             0                  0\n",
       "4                       0             0                  1\n",
       "...                   ...           ...                ...\n",
       "37838                   0             0                  1\n",
       "37839                   0             0                  1\n",
       "37840                   0             0                  1\n",
       "37841                   0             0                  1\n",
       "37842                   0             0                  1\n",
       "\n",
       "[37843 rows x 3 columns]"
      ]
     },
     "execution_count": 35,
     "metadata": {},
     "output_type": "execute_result"
    }
   ],
   "source": [
    "# Ahora puedo tener 2 abordajes... o quiero dar la misma importancia a todos... Si es así, tendría que transformar\n",
    "# esto en 3 columnas binarias, esto es llamado one-hot-encoding\n",
    "\n",
    "cylinders_dummy = pd.get_dummies(data['cylinders_class'])\n",
    "cylinders_dummy"
   ]
  },
  {
   "cell_type": "code",
   "execution_count": 36,
   "metadata": {
    "pycharm": {
     "name": "#%%\n"
    }
   },
   "outputs": [
    {
     "data": {
      "text/plain": [
       "Regular cylinders     28698\n",
       "A lot of cylinders     9023\n",
       "No cylinders            122\n",
       "Name: cylinders_class, dtype: int64"
      ]
     },
     "execution_count": 36,
     "metadata": {},
     "output_type": "execute_result"
    }
   ],
   "source": [
    "# Si quisiera mantener este orden en mi variable, es decir, que los que no tienen cilindros valgan menos que los que\n",
    "# sí... entonces puedo transformar la columna en categórica y cada categoría tendrá un número de forma ordinal\n",
    "\n",
    "cylinders_label = data['cylinders_class'].astype('category')\n",
    "cylinders_label.value_counts()"
   ]
  },
  {
   "cell_type": "code",
   "execution_count": null,
   "metadata": {
    "pycharm": {
     "name": "#%%\n"
    }
   },
   "outputs": [],
   "source": [
    "cylinders_label = cylinders_label.cat.codes\n",
    "cylinders_label.value_counts()"
   ]
  },
  {
   "cell_type": "code",
   "execution_count": null,
   "metadata": {
    "pycharm": {
     "name": "#%%\n"
    }
   },
   "outputs": [],
   "source": [
    "# Ahora vamos a suponer que quiero lidar con los outliers de esta columna que tiene muchos valores diferentes, son\n",
    "# continuos y no quiero hacer con que sean categóricos... tampoco los quiero borrar... Entonces lo que debería hacer\n",
    "# sería normalizar estos datos, ponerlos en 1 mismo rango para que los modelos no interpreten datos que son de miles\n",
    "# de la misma forma que datos en unidades... todo tiene que estar correcto.\n",
    "data['highway08U'].value_counts()"
   ]
  },
  {
   "cell_type": "code",
   "execution_count": null,
   "metadata": {
    "pycharm": {
     "name": "#%%\n"
    }
   },
   "outputs": [],
   "source": [
    "# Una de las formas de reescalar esta data es a través del método min max... los invito a investigar otros métodos y\n",
    "# para qué se usan...\n",
    "\n",
    "def min_max_scaling(df):\n",
    "    df_norm = df.copy()\n",
    "    for column in df_norm._get_numeric_data():\n",
    "        df_norm[column] = (df_norm[column] - df_norm[column].min()) / \\\n",
    "                          (df_norm[column].max() - df_norm[column].min())\n",
    "    return df_norm\n",
    "\n",
    "data_minmax = min_max_scaling(data)\n",
    "data_minmax.head()"
   ]
  },
  {
   "cell_type": "code",
   "execution_count": null,
   "metadata": {
    "pycharm": {
     "name": "#%%\n"
    }
   },
   "outputs": [],
   "source": [
    "data.head()\n"
   ]
  },
  {
   "cell_type": "code",
   "execution_count": null,
   "metadata": {
    "pycharm": {
     "name": "#%%\n"
    }
   },
   "outputs": [],
   "source": [
    "# Otro tema que tenemos que preocuparnos mientras preparamos nuestra data es la corrección de los tipos...\n",
    "\n",
    "data.dtypes"
   ]
  },
  {
   "cell_type": "code",
   "execution_count": null,
   "metadata": {
    "pycharm": {
     "name": "#%%\n"
    }
   },
   "outputs": [],
   "source": [
    "# Puedo por ejemplo cambiar esta columna de fecha por un formato de fecha real... suponiendo que las fechas son\n",
    "# importantes para mi análisis de serie de tiempo... por supuesto aquí solo tengo el año, pero como ejemplo...\n",
    "data['year'] = pd.to_datetime(data['year'], format='%Y')\n",
    "data['year']"
   ]
  },
  {
   "cell_type": "code",
   "execution_count": null,
   "metadata": {
    "pycharm": {
     "name": "#%%\n"
    }
   },
   "outputs": [],
   "source": [
    "# También puede suceder que yo tenga columnas que deberían ser numéricas pero aparecen como texto, esto es porque hay\n",
    "# algún caracter especial que no sabemos cuál y hace con que toda la columna sea interpretada como objeto (string)...\n",
    "# Deberíamos limpiar estos datos para luego poder cambiar el tipo de la columna.\n",
    "\n",
    "# Les dije que regresaríamos a limpiar la columna de transmisión... Pues veamos qué traemos aquí\n",
    "\n",
    "data['trany'].value_counts()"
   ]
  },
  {
   "cell_type": "code",
   "execution_count": null,
   "metadata": {
    "pycharm": {
     "name": "#%%\n"
    }
   },
   "outputs": [],
   "source": [
    "data['trany'] = data['trany'].str.replace('-', '')\n",
    "data['trany'].value_counts()"
   ]
  },
  {
   "cell_type": "code",
   "execution_count": null,
   "metadata": {
    "pycharm": {
     "name": "#%%\n"
    }
   },
   "outputs": [],
   "source": [
    "def limpiar_col(x):\n",
    "    reemplazar = [('Automatic', 'Auto'), ('Auto(', 'Auto '),\n",
    "                  ('Manual(', 'Manual '), ('(', ''), (')', '')]\n",
    "    for tupla in reemplazar:\n",
    "        x = x.replace(tupla[0], tupla[1])\n",
    "    return x\n",
    "\n",
    "data['trany'] = data['trany'].apply(limpiar_col)\n",
    "data['trany'].value_counts()"
   ]
  },
  {
   "cell_type": "code",
   "execution_count": null,
   "metadata": {
    "pycharm": {
     "name": "#%%\n"
    }
   },
   "outputs": [],
   "source": [
    "data['trany_type'] = data['trany'].apply(lambda x: re.findall(r'^\\w+\\b', x)[0])\n",
    "data['trany_type'].value_counts()"
   ]
  },
  {
   "cell_type": "code",
   "execution_count": null,
   "metadata": {
    "pycharm": {
     "name": "#%%\n"
    }
   },
   "outputs": [],
   "source": [
    "before = len(data)\n",
    "data = data.drop_duplicates()\n",
    "after = len(data)\n",
    "print('Number of duplicate records dropped: ', str(before - after))"
   ]
  },
  {
   "cell_type": "code",
   "execution_count": null,
   "metadata": {
    "pycharm": {
     "name": "#%%\n"
    }
   },
   "outputs": [],
   "source": [
    "select_columns = ['make', 'model', 'year', 'displ', 'cylinders',\n",
    "                  'trany', 'drive', 'VClass','fuelType','barrels08',\n",
    "                  'city08', 'highway08', 'comb08', 'co2TailpipeGpm', 'fuelCost08']\n",
    "\n",
    "data = data[select_columns].drop_duplicates()\n",
    "after = len(data)\n",
    "print('Number of duplicate records dropped: ', str(before - after))"
   ]
  },
  {
   "cell_type": "markdown",
   "metadata": {
    "pycharm": {
     "name": "#%% md\n"
    }
   },
   "source": [
    "# Data Manipulation"
   ]
  },
  {
   "cell_type": "code",
   "execution_count": null,
   "metadata": {
    "pycharm": {
     "name": "#%%\n"
    }
   },
   "outputs": [],
   "source": [
    "data = pd.read_csv('../../01-data/vehicles.csv')\n",
    "data.head()"
   ]
  },
  {
   "cell_type": "code",
   "execution_count": null,
   "metadata": {
    "pycharm": {
     "name": "#%%\n"
    }
   },
   "outputs": [],
   "source": [
    "data.columns"
   ]
  },
  {
   "cell_type": "code",
   "execution_count": null,
   "metadata": {
    "pycharm": {
     "name": "#%%\n"
    }
   },
   "outputs": [],
   "source": [
    "data.columns = ['Manufacturer','Model','Year','Displacement',\n",
    "                'Cylinders','Transmission','Drivetrain',\n",
    "                'Vehicle_Class','Fuel_Type','Fuel_Barrels_Year',\n",
    "                'City_MPG','Highway_MPG','Combined_MPG',\n",
    "                'CO2_Emission_Grams_Mile','Fuel_Cost_Year']\n",
    "\n",
    "data.columns"
   ]
  },
  {
   "cell_type": "code",
   "execution_count": null,
   "metadata": {
    "pycharm": {
     "name": "#%%\n"
    }
   },
   "outputs": [],
   "source": [
    "data = data.rename(columns={'Manufacturer':'Make',\n",
    "                            'Displacement':'Engine_Displacement'})\n",
    "\n",
    "data.columns"
   ]
  },
  {
   "cell_type": "code",
   "execution_count": null,
   "metadata": {
    "pycharm": {
     "name": "#%%\n"
    }
   },
   "outputs": [],
   "source": [
    "column_order = ['Year','Make','Model','Vehicle_Class',\n",
    "                'Transmission','Drivetrain','Fuel_Type',\n",
    "                'Cylinders','Engine_Displacement','Fuel_Barrels_Year',\n",
    "                'City_MPG','Highway_MPG','Combined_MPG',\n",
    "                'CO2_Emission_Grams_Mile','Fuel_Cost_Year']\n",
    "\n",
    "data = data[column_order]\n",
    "data.head()"
   ]
  },
  {
   "cell_type": "code",
   "execution_count": null,
   "metadata": {
    "pycharm": {
     "name": "#%%\n"
    }
   },
   "outputs": [],
   "source": [
    "filtered = data[(data['Make']=='Ford') &\n",
    "                (data['Cylinders']>=6) &\n",
    "                (data['Combined_MPG'] < 18)]\n",
    "\n",
    "filtered.head()"
   ]
  },
  {
   "cell_type": "code",
   "execution_count": null,
   "metadata": {
    "pycharm": {
     "name": "#%%\n"
    }
   },
   "outputs": [],
   "source": [
    "mpg_labels = ['Very Low', 'Low', 'Moderate', 'High', 'Very High']\n",
    "bins = pd.cut(data['Combined_MPG'],5, labels=mpg_labels)\n",
    "bins.value_counts()"
   ]
  },
  {
   "cell_type": "code",
   "execution_count": null,
   "metadata": {
    "pycharm": {
     "name": "#%%\n"
    }
   },
   "outputs": [],
   "source": [
    "bins = pd.qcut(data['Combined_MPG'],5, labels=mpg_labels)\n",
    "bins.value_counts()"
   ]
  },
  {
   "cell_type": "code",
   "execution_count": null,
   "metadata": {
    "pycharm": {
     "name": "#%%\n"
    }
   },
   "outputs": [],
   "source": [
    "cutoffs = [7,14,21,23,30,40]\n",
    "bins = pd.cut(data['Combined_MPG'], cutoffs, labels=mpg_labels)\n",
    "bins.value_counts()"
   ]
  },
  {
   "cell_type": "code",
   "execution_count": null,
   "metadata": {
    "pycharm": {
     "name": "#%%\n"
    }
   },
   "outputs": [],
   "source": [
    "data.loc[data['Transmission'].str.startswith('A'), 'TransType'] = 'Automatic'\n",
    "data.loc[data['Transmission'].str.startswith('M'), 'TransType'] = 'Manual'\n",
    "data['TransType'].value_counts()"
   ]
  },
  {
   "cell_type": "code",
   "execution_count": null,
   "metadata": {
    "pycharm": {
     "name": "#%%\n"
    }
   },
   "outputs": [],
   "source": [
    "avg_mpg = data.groupby('Make', as_index=False).agg({'Combined_MPG':'mean'})\n",
    "avg_mpg.columns = ['Make', 'Avg_MPG']\n",
    "avg_mpg"
   ]
  },
  {
   "cell_type": "code",
   "execution_count": null,
   "metadata": {
    "pycharm": {
     "name": "#%%\n"
    }
   },
   "outputs": [],
   "source": [
    "data = pd.merge(data, avg_mpg, on='Make')\n",
    "data.head(10)\n"
   ]
  },
  {
   "cell_type": "code",
   "execution_count": null,
   "metadata": {
    "pycharm": {
     "name": "#%%\n"
    }
   },
   "outputs": [],
   "source": [
    "drivetrain = pd.get_dummies(data['Drivetrain'])\n",
    "drivetrain.head()"
   ]
  },
  {
   "cell_type": "code",
   "execution_count": null,
   "metadata": {
    "pycharm": {
     "name": "#%%\n"
    }
   },
   "outputs": [],
   "source": [
    "data = pd.concat([data, drivetrain], axis=1)\n",
    "data"
   ]
  },
  {
   "cell_type": "code",
   "execution_count": null,
   "metadata": {
    "pycharm": {
     "name": "#%%\n"
    }
   },
   "outputs": [],
   "source": [
    "lexus = data[data['Make']=='Lexus']\n",
    "audi = data[data['Make']=='Audi']\n",
    "lexus"
   ]
  },
  {
   "cell_type": "code",
   "execution_count": null,
   "metadata": {
    "pycharm": {
     "name": "#%%\n"
    }
   },
   "outputs": [],
   "source": [
    "lexus_audi = pd.concat([lexus, audi], axis=0)\n",
    "lexus_audi"
   ]
  },
  {
   "cell_type": "code",
   "execution_count": null,
   "metadata": {
    "pycharm": {
     "name": "#%%\n"
    }
   },
   "outputs": [],
   "source": [
    "melted = pd.melt(data, id_vars=['Year','Make','Model'],\n",
    "                 value_vars=['City_MPG','Highway_MPG','Combined_MPG'])\n",
    "melted"
   ]
  },
  {
   "cell_type": "code",
   "execution_count": null,
   "metadata": {
    "pycharm": {
     "name": "#%%\n"
    }
   },
   "outputs": [],
   "source": [
    "df = pd.DataFrame({'A': [[1, 2, 3], 'foo', [], [3, 4]], 'B': 1})\n",
    "df"
   ]
  },
  {
   "cell_type": "code",
   "execution_count": null,
   "metadata": {
    "pycharm": {
     "name": "#%%\n"
    }
   },
   "outputs": [],
   "source": [
    "df.explode('A')"
   ]
  },
  {
   "cell_type": "code",
   "execution_count": null,
   "metadata": {
    "pycharm": {
     "name": "#%%\n"
    }
   },
   "outputs": [],
   "source": [
    "\n"
   ]
  }
 ],
 "metadata": {
  "kernelspec": {
   "display_name": "Python 3.7 (tensorflow)",
   "language": "python",
   "name": "tensorflow"
  },
  "language_info": {
   "codemirror_mode": {
    "name": "ipython",
    "version": 3
   },
   "file_extension": ".py",
   "mimetype": "text/x-python",
   "name": "python",
   "nbconvert_exporter": "python",
   "pygments_lexer": "ipython3",
   "version": "3.7.7"
  }
 },
 "nbformat": 4,
 "nbformat_minor": 1
}
